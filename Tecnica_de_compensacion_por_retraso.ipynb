{
 "metadata": {
  "name": "",
  "signature": "sha256:b1d082a79f6b5fca775b6ccb5994e254e6903c7899e34acc3e091d1c9dbee39e"
 },
 "nbformat": 3,
 "nbformat_minor": 0,
 "worksheets": [
  {
   "cells": [
    {
     "cell_type": "markdown",
     "metadata": {},
     "source": [
      "REGULADOR PI REAL\n",
      "----------------"
     ]
    },
    {
     "cell_type": "markdown",
     "metadata": {},
     "source": [
      "$$G_c(s)=k_c\\beta \\frac{Ts+1}{\\beta Ts+1} = k_c\\frac{s+\\frac{1}{T}}{s+\\frac{1}{\\beta T}} \\qquad \\beta>1$$\n",
      "\n",
      "* El polo $-\\frac{1}{\\beta T}$ est\u00e1 situado m\u00e1s cerca del origen que el cero $-\\frac{1}{T}$\n",
      "\n",
      "------------------------------------------------------------------------\n",
      "\n",
      "Diagrama de compensador por retardo:\n",
      "\n",
      "<img align=right src=\"img/grafica_comp_retardo.svg\">\n",
      "<img align=right src=\"img/lugar_raices_comp_retardo.svg\">\n",
      "\n",
      "[Falta: Diagrama de BODE]"
     ]
    },
    {
     "cell_type": "markdown",
     "metadata": {},
     "source": [
      "* La funci\u00f3n principal deun compensador de retardo es sproporcionar una atenuaci\u00f3n en el rango de altas frecuencias a fin de aportar un margen de fase suficiente al sistema.\n",
      "\n",
      "* La caracter\u00edstica de retarde de fase *No tiene importancia* en la compensaci\u00f3n por retardo.\n",
      "\n",
      "----------------------------------------------------------\n",
      "\n",
      "[...]"
     ]
    },
    {
     "cell_type": "markdown",
     "metadata": {},
     "source": [
      "**EJEMPLO**\n",
      "\n",
      "$$G(s) = \\frac{2}{s(s+1)(s+2)}$$\n",
      "\n",
      "Dise\u00f1ar un compensador para que el sistema propuesto presente:\n",
      "\n",
      "* Un error de velocidad $k_v = 5seg^{-1}$ \n",
      "* Un margen de fase de al menos 40\u00ba\n",
      "* Margen de ganancia de al menos 10dB\n",
      "\n",
      "------------------------------------------------\n",
      "1.\n",
      "El compensador PI real ser\u00e1 de la siguiente forma:\n",
      "\n",
      "$ \\qquad G_c(s)=k_c \\beta \\frac{Ts+1}{\\beta Ts+1}$\n",
      "\n",
      "$ \\qquad K=k_c \\cdot \\beta$\n",
      "\n"
     ]
    },
    {
     "cell_type": "code",
     "collapsed": false,
     "input": [],
     "language": "python",
     "metadata": {},
     "outputs": [],
     "prompt_number": 0
    },
    {
     "cell_type": "markdown",
     "metadata": {},
     "source": [
      "[Index](index.ipynb)"
     ]
    },
    {
     "cell_type": "code",
     "collapsed": false,
     "input": [],
     "language": "python",
     "metadata": {},
     "outputs": []
    }
   ],
   "metadata": {}
  }
 ]
}