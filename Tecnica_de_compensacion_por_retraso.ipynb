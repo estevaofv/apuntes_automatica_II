{
 "metadata": {
  "name": "",
  "signature": "sha256:b9dcb21a6ff434f8ee0a25a5d35f79100543b2389bb38524cfa0e8425c4f7157"
 },
 "nbformat": 3,
 "nbformat_minor": 0,
 "worksheets": [
  {
   "cells": [
    {
     "cell_type": "markdown",
     "metadata": {},
     "source": [
      "REGULADOR PI REAL\n",
      "----------------"
     ]
    },
    {
     "cell_type": "markdown",
     "metadata": {},
     "source": [
      "$$G_c(s)=k_c\\beta \\frac{Ts+1}{\\beta Ts+1} = k_c\\frac{s+\\frac{1}{T}}{s+\\frac{1}{\\beta T}} \\qquad \\beta>1$$\n",
      "\n",
      "* El polo $-\\frac{1}{\\beta T}$ est\u00e1 situado m\u00e1s cerca del origen que el cero $-\\frac{1}{T}$\n",
      "\n",
      "------------------------------------------------------------------------\n",
      "\n",
      "Diagrama de compensador por retardo:\n",
      "\n",
      "<img align=right src=\"img/grafica_comp_retardo.svg\">\n",
      "<img align=right src=\"img/lugar_raices_comp_retardo.svg\">\n",
      "\n",
      "[Falta: Diagrama de BODE]"
     ]
    },
    {
     "cell_type": "markdown",
     "metadata": {},
     "source": [
      "* El polo $-\\frac{1}{\\beta T}$ est\u00e1 situado m\u00e1s cerca del origen que el cero $-\\frac{1}{T}$.\n",
      "\n",
      "* La funci\u00f3n principal deun compensador de retardo es proporcionar una atenuaci\u00f3n en el rango de altas frecuencias a fin de aportar un margen de fase suficiente al sistema.\n",
      "\n",
      "* La caracter\u00edstica de retarde de fase *No tiene importancia* en la compensaci\u00f3n por retardo.\n",
      "\n",
      "----------------------------------------------------------\n",
      "\n",
      "[...]"
     ]
    },
    {
     "cell_type": "markdown",
     "metadata": {},
     "source": [
      "**EJEMPLO**\n",
      "\n",
      "$$G(s) = \\frac{2}{s(s+1)(s+2)}$$\n",
      "\n",
      "Dise\u00f1ar un compensador para que el sistema propuesto presente:\n",
      "\n",
      "* Un error de velocidad $k_v = 5seg^{-1}$ \n",
      "* Un margen de fase de al menos 40\u00ba\n",
      "* Margen de ganancia de al menos 10dB\n",
      "\n",
      "------------------------------------------------\n"
     ]
    },
    {
     "cell_type": "code",
     "collapsed": false,
     "input": [
      "from scipy import signal, interpolate # importamos interpolate para obtener datos de la funci\u00f3n de Bode\n",
      "import sympy as sp\n",
      "import numpy as np\n",
      "sp.init_printing(use_latex=True) # para que las salidas sean bonitas\n",
      "import matplotlib.pyplot as plt\n",
      "%matplotlib inline"
     ],
     "language": "python",
     "metadata": {},
     "outputs": [],
     "prompt_number": 47
    },
    {
     "cell_type": "markdown",
     "metadata": {},
     "source": [
      "1.-\n",
      "El compensador PI real ser\u00e1 de la siguiente forma:\n",
      "\n",
      "$ \\qquad G_c(s)=k_c \\beta \\frac{Ts+1}{\\beta Ts+1}$\n",
      "\n",
      "$ \\qquad K=k_c \\cdot \\beta$\n",
      "\n",
      "\n"
     ]
    },
    {
     "cell_type": "code",
     "collapsed": false,
     "input": [
      "kv=5\n",
      "\u03b2,kc,s,T = sp.symbols('\u03b2,kc,s,T')\n",
      "K=kc*\u03b2\n",
      "G=2/(s*(s+1)*(s+2))\n",
      "Gc= K*(T*s +1)/(\u03b2*T*s+1)"
     ],
     "language": "python",
     "metadata": {},
     "outputs": [],
     "prompt_number": 48
    },
    {
     "cell_type": "code",
     "collapsed": false,
     "input": [
      "G"
     ],
     "language": "python",
     "metadata": {},
     "outputs": [
      {
       "latex": [
        "$$\\frac{2}{s \\left(s + 1\\right) \\left(s + 2\\right)}$$"
       ],
       "metadata": {},
       "output_type": "pyout",
       "png": "[encoded data removed]",
       "prompt_number": 49,
       "text": [
        "        2        \n",
        "\u2500\u2500\u2500\u2500\u2500\u2500\u2500\u2500\u2500\u2500\u2500\u2500\u2500\u2500\u2500\u2500\u2500\n",
        "s\u22c5(s + 1)\u22c5(s + 2)"
       ]
      }
     ],
     "prompt_number": 49
    },
    {
     "cell_type": "code",
     "collapsed": false,
     "input": [
      "Gc"
     ],
     "language": "python",
     "metadata": {},
     "outputs": [
      {
       "latex": [
        "$$\\frac{kc \u03b2 \\left(T s + 1\\right)}{T s \u03b2 + 1}$$"
       ],
       "metadata": {},
       "output_type": "pyout",
       "png": "[encoded data removed]",
       "prompt_number": 50,
       "text": [
        "kc\u22c5\u03b2\u22c5(T\u22c5s + 1)\n",
        "\u2500\u2500\u2500\u2500\u2500\u2500\u2500\u2500\u2500\u2500\u2500\u2500\u2500\u2500\n",
        "  T\u22c5s\u22c5\u03b2 + 1   "
       ]
      }
     ],
     "prompt_number": 50
    },
    {
     "cell_type": "markdown",
     "metadata": {},
     "source": [
      "2.- \n",
      "Se ajusta la ganancia\n",
      "\n",
      "$k_v = \\lim_{s \\rightarrow 0} s \\frac{Ts+1}{\\beta Ts+1}KG(s) = \\lim_{s \\rightarrow 0}s\\cdot K \\frac{2}{s(s+1)(s+2)} = 5$\n",
      "\n"
     ]
    },
    {
     "cell_type": "code",
     "collapsed": false,
     "input": [
      "sp.limit(s*Gc*G,s,0)"
     ],
     "language": "python",
     "metadata": {},
     "outputs": [
      {
       "latex": [
        "$$kc \u03b2$$"
       ],
       "metadata": {},
       "output_type": "pyout",
       "png": "[encoded data removed]",
       "prompt_number": 51,
       "text": [
        "kc\u22c5\u03b2"
       ]
      }
     ],
     "prompt_number": 51
    },
    {
     "cell_type": "code",
     "collapsed": false,
     "input": [
      "K=kv"
     ],
     "language": "python",
     "metadata": {},
     "outputs": [],
     "prompt_number": 52
    },
    {
     "cell_type": "markdown",
     "metadata": {},
     "source": [
      "3.-\n",
      "Se dibuja el diagrama de Bode con la ganancia = K:\n",
      "\n",
      "$$KG(s) = \\frac{10}{s(s+1)(s+2)}$$"
     ]
    },
    {
     "cell_type": "code",
     "collapsed": false,
     "input": [
      "sp.expand(kv*G)"
     ],
     "language": "python",
     "metadata": {},
     "outputs": [
      {
       "latex": [
        "$$\\frac{10}{s^{3} + 3 s^{2} + 2 s}$$"
       ],
       "metadata": {},
       "output_type": "pyout",
       "png": "[encoded data removed]",
       "prompt_number": 53,
       "text": [
        "       10      \n",
        "\u2500\u2500\u2500\u2500\u2500\u2500\u2500\u2500\u2500\u2500\u2500\u2500\u2500\u2500\u2500\n",
        " 3      2      \n",
        "s  + 3\u22c5s  + 2\u22c5s"
       ]
      }
     ],
     "prompt_number": 53
    },
    {
     "cell_type": "code",
     "collapsed": false,
     "input": [
      "TKG=signal.lti([10],[1, 3, 2, 0])\n",
      "w, mag, phase = signal.bode(TKG) # Diagrama de bode: frecuencias, magnitud y fase\n",
      "fig, (ax1, ax2) = plt.subplots(2, 1, figsize=(6, 6))\n",
      "\n",
      "ax1.set_title('Ganancia') #Decoracion\n",
      "ax2.set_title('Fase') # Decoracion\n",
      "\n",
      "ax1.grid(color='g', linestyle='--', linewidth=0.5, alpha=0.5,which='major') #Decoracion\n",
      "ax1.grid(color='g', linestyle='--', linewidth=0.2, alpha=0.5,which='minor') #Decoracion\n",
      "\n",
      "ax2.grid(color='g', linestyle='--', linewidth=0.5, alpha=0.5,which='major') #Decoracion\n",
      "ax2.grid(color='g', linestyle='--', linewidth=0.2, alpha=0.5,which='minor') #Decoracion\n",
      "\n",
      "ax1.semilogx(w, mag) # Eje x logar\u00edtmico\n",
      "ax2.semilogx(w, phase) # Eje x logar\u00edtmico\n",
      "\n",
      "ax1.set_axis_bgcolor('aliceblue')# Mas decoraciones\n",
      "ax2.set_axis_bgcolor('aliceblue')# Mas decoraciones"
     ],
     "language": "python",
     "metadata": {},
     "outputs": [
      {
       "metadata": {},
       "output_type": "display_data",
       "png": "[encoded data removed]",
       "text": [
        "<matplotlib.figure.Figure at 0x7fbb90fa4e48>"
       ]
      }
     ],
     "prompt_number": 68
    },
    {
     "cell_type": "code",
     "collapsed": false,
     "input": [
      "# Usamos el m\u00e9todo interpolate de scipy\n",
      "M_W = interpolate.interp1d(mag,w) # Ingresa ganancia, devuelve frecuencia \n",
      "W_M = interpolate.interp1d(w,mag) # ingresa frecuencia, duevuelve ganancia\n",
      "P_W = interpolate.interp1d(phase,w)\n",
      "W_P = interpolate.interp1d(w,phase)"
     ],
     "language": "python",
     "metadata": {},
     "outputs": [],
     "prompt_number": 69
    },
    {
     "cell_type": "code",
     "collapsed": false,
     "input": [
      "M_W(0) # 1.8028696116307432 rd para ganancia 0\n",
      "W_P(1.8028696116307432) # Angulo de -192.97900193093383 para ganancia cero\n",
      "P_W(-180) #1.4143192918261236 rd para fase -180\n",
      "W_M(1.4143192918261236)# 4.436397910885376 dBs para fase = -180"
     ],
     "language": "python",
     "metadata": {},
     "outputs": [
      {
       "metadata": {},
       "output_type": "pyout",
       "prompt_number": 70,
       "text": [
        "array(4.436397910885376)"
       ]
      }
     ],
     "prompt_number": 70
    },
    {
     "cell_type": "code",
     "collapsed": false,
     "input": [
      "# Cruce de fase por -180 grados\n",
      "ax1.vlines(1.4143192918261236, 4.436397910885376, 0, colors=u'k', linestyles=u'solid') #, Av en cruce de fas'\n",
      "ax2.vlines(1.4143192918261236,-180,-80,colors=u'k', linestyles=u'solid')\n",
      "\n",
      "ax1.text(1.4143192918261236, 4.436397910885376, u'ganancia: \\n $4.36dB$', withdash=True,\n",
      "         dashdirection=1,\n",
      "         dashlength=15,\n",
      "         rotation=0,\n",
      "         dashrotation=45,\n",
      "         dashpush=8,\n",
      "         )\n",
      "\n",
      "#Cruce de ganancia por 0 dBs\n",
      "ax1.vlines(1.8028696116307432,0,-60)\n",
      "ax2.vlines(1.8028696116307432,-180,-192.97900193093383)\n",
      "\n",
      "ax2.text(1.8028696116307432, -192.97900193093383, u'frecuencia: \\n $\\omega = 1.80 rad/s$', withdash=True,\n",
      "         dashdirection=0,\n",
      "         dashlength=10,\n",
      "         rotation=0,\n",
      "         dashrotation=60,\n",
      "         dashpush=5,\n",
      "         )   \n",
      "\n",
      "\n",
      "fig"
     ],
     "language": "python",
     "metadata": {},
     "outputs": [
      {
       "metadata": {},
       "output_type": "pyout",
       "png": "[encoded data removed]",
       "prompt_number": 71,
       "text": [
        "<matplotlib.figure.Figure at 0x7fbb90fa4e48>"
       ]
      }
     ],
     "prompt_number": 71
    },
    {
     "cell_type": "markdown",
     "metadata": {},
     "source": [
      "[Index](index.ipynb)"
     ]
    },
    {
     "cell_type": "code",
     "collapsed": false,
     "input": [],
     "language": "python",
     "metadata": {},
     "outputs": [],
     "prompt_number": 71
    },
    {
     "cell_type": "code",
     "collapsed": false,
     "input": [],
     "language": "python",
     "metadata": {},
     "outputs": []
    }
   ],
   "metadata": {}
  }
 ]
}