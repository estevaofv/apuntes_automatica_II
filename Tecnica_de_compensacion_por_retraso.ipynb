{
 "cells": [
  {
   "cell_type": "markdown",
   "metadata": {},
   "source": [
    "REGULADOR PI REAL\n",
    "----------------"
   ]
  },
  {
   "cell_type": "markdown",
   "metadata": {},
   "source": [
    "$$G_c(s)=k_c\\beta \\frac{Ts+1}{\\beta Ts+1} = k_c\\frac{s+\\frac{1}{T}}{s+\\frac{1}{\\beta T}} \\qquad \\beta>1$$\n",
    "\n",
    "* El polo $-\\frac{1}{\\beta T}$ está situado más cerca del origen que el cero $-\\frac{1}{T}$\n",
    "\n",
    "------------------------------------------------------------------------\n",
    "\n",
    "Diagrama de compensador por retardo:\n",
    "\n",
    "<img align=right src=\"img/grafica_comp_retardo.svg\">\n",
    "<img align=right src=\"img/lugar_raices_comp_retardo.svg\">\n",
    "\n",
    "[Falta: Diagrama de BODE]"
   ]
  },
  {
   "cell_type": "markdown",
   "metadata": {},
   "source": [
    "* El polo $-\\frac{1}{\\beta T}$ está situado más cerca del origen que el cero $-\\frac{1}{T}$.\n",
    "\n",
    "* La función principal deun compensador de retardo es proporcionar una atenuación en el rango de altas frecuencias a fin de aportar un margen de fase suficiente al sistema.\n",
    "\n",
    "* La característica de retarde de fase *No tiene importancia* en la compensación por retardo.\n",
    "\n",
    "----------------------------------------------------------\n",
    "\n",
    "[...]"
   ]
  },
  {
   "cell_type": "markdown",
   "metadata": {},
   "source": [
    "**EJEMPLO**\n",
    "\n",
    "$$G(s) = \\frac{2}{s(s+1)(s+2)}$$\n",
    "\n",
    "Diseñar un compensador para que el sistema propuesto presente:\n",
    "\n",
    "* Un error de velocidad $k_v = 5seg^{-1}$ \n",
    "* Un margen de fase de al menos 40º\n",
    "* Margen de ganancia de al menos 10dB\n",
    "\n",
    "------------------------------------------------\n"
   ]
  },
  {
   "cell_type": "code",
   "execution_count": 47,
   "metadata": {
    "collapsed": false
   },
   "outputs": [],
   "source": [
    "from scipy import signal, interpolate # importamos interpolate para obtener datos de la función de Bode\n",
    "import sympy as sp\n",
    "import numpy as np\n",
    "sp.init_printing(use_latex=True) # para que las salidas sean bonitas\n",
    "import matplotlib.pyplot as plt\n",
    "%matplotlib inline"
   ]
  },
  {
   "cell_type": "markdown",
   "metadata": {},
   "source": [
    "1.-\n",
    "El compensador PI real será de la siguiente forma:\n",
    "\n",
    "$ \\qquad G_c(s)=k_c \\beta \\frac{Ts+1}{\\beta Ts+1}$\n",
    "\n",
    "$ \\qquad K=k_c \\cdot \\beta$\n",
    "\n",
    "\n"
   ]
  },
  {
   "cell_type": "code",
   "execution_count": 48,
   "metadata": {
    "collapsed": false
   },
   "outputs": [],
   "source": [
    "kv=5\n",
    "β,kc,s,T = sp.symbols('β,kc,s,T')\n",
    "K=kc*β\n",
    "G=2/(s*(s+1)*(s+2))\n",
    "Gc= K*(T*s +1)/(β*T*s+1)"
   ]
  },
  {
   "cell_type": "code",
   "execution_count": 49,
   "metadata": {
    "collapsed": false
   },
   "outputs": [
    {
     "data": {
      "image/png": "[encoded data removed]",
      "text/latex": [
       "$$\\frac{2}{s \\left(s + 1\\right) \\left(s + 2\\right)}$$"
      ],
      "text/plain": [
       "        2        \n",
       "─────────────────\n",
       "s⋅(s + 1)⋅(s + 2)"
      ]
     },
     "execution_count": 49,
     "metadata": {},
     "output_type": "execute_result"
    }
   ],
   "source": [
    "G"
   ]
  },
  {
   "cell_type": "code",
   "execution_count": 50,
   "metadata": {
    "collapsed": false
   },
   "outputs": [
    {
     "data": {
      "image/png": "[encoded data removed]",
      "text/latex": [
       "$$\\frac{kc β \\left(T s + 1\\right)}{T s β + 1}$$"
      ],
      "text/plain": [
       "kc⋅β⋅(T⋅s + 1)\n",
       "──────────────\n",
       "  T⋅s⋅β + 1   "
      ]
     },
     "execution_count": 50,
     "metadata": {},
     "output_type": "execute_result"
    }
   ],
   "source": [
    "Gc"
   ]
  },
  {
   "cell_type": "markdown",
   "metadata": {},
   "source": [
    "2.- \n",
    "Se ajusta la ganancia\n",
    "\n",
    "$k_v = \\lim_{s \\rightarrow 0} s \\frac{Ts+1}{\\beta Ts+1}KG(s) = \\lim_{s \\rightarrow 0}s\\cdot K \\frac{2}{s(s+1)(s+2)} = 5$\n",
    "\n"
   ]
  },
  {
   "cell_type": "code",
   "execution_count": 51,
   "metadata": {
    "collapsed": false
   },
   "outputs": [
    {
     "data": {
      "image/png": "[encoded data removed]",
      "text/latex": [
       "$$kc β$$"
      ],
      "text/plain": [
       "kc⋅β"
      ]
     },
     "execution_count": 51,
     "metadata": {},
     "output_type": "execute_result"
    }
   ],
   "source": [
    "sp.limit(s*Gc*G,s,0)"
   ]
  },
  {
   "cell_type": "code",
   "execution_count": 52,
   "metadata": {
    "collapsed": false
   },
   "outputs": [],
   "source": [
    "K=kv"
   ]
  },
  {
   "cell_type": "markdown",
   "metadata": {},
   "source": [
    "3.-\n",
    "Se dibuja el diagrama de Bode con la ganancia = K:\n",
    "\n",
    "$$KG(s) = \\frac{10}{s(s+1)(s+2)}$$"
   ]
  },
  {
   "cell_type": "code",
   "execution_count": 53,
   "metadata": {
    "collapsed": false
   },
   "outputs": [
    {
     "data": {
      "image/png": "[encoded data removed]",
      "text/latex": [
       "$$\\frac{10}{s^{3} + 3 s^{2} + 2 s}$$"
      ],
      "text/plain": [
       "       10      \n",
       "───────────────\n",
       " 3      2      \n",
       "s  + 3⋅s  + 2⋅s"
      ]
     },
     "execution_count": 53,
     "metadata": {},
     "output_type": "execute_result"
    }
   ],
   "source": [
    "sp.expand(kv*G)"
   ]
  },
  {
   "cell_type": "code",
   "execution_count": 82,
   "metadata": {
    "collapsed": false
   },
   "outputs": [
    {
     "data": {
      "image/png": "[encoded data removed]",
      "text/plain": [
       "<matplotlib.figure.Figure at 0x7fbb90a1ff98>"
      ]
     },
     "metadata": {},
     "output_type": "display_data"
    }
   ],
   "source": [
    "TKG=signal.lti([10],[1, 3, 2, 0])\n",
    "w, mag, phase = signal.bode(TKG) # Diagrama de bode: frecuencias, magnitud y fase\n",
    "fig, (ax1, ax2) = plt.subplots(2, 1, figsize=(6, 6))\n",
    "\n",
    "ax1.set_title('Ganancia') #Decoracion\n",
    "ax2.set_title('Fase') # Decoracion\n",
    "\n",
    "ax1.grid(color='g', linestyle='--', linewidth=0.5, alpha=0.5,which='major') #Decoracion\n",
    "ax1.grid(color='g', linestyle='--', linewidth=0.2, alpha=0.5,which='minor') #Decoracion\n",
    "\n",
    "ax2.grid(color='g', linestyle='--', linewidth=0.5, alpha=0.5,which='major') #Decoracion\n",
    "ax2.grid(color='g', linestyle='--', linewidth=0.2, alpha=0.5,which='minor') #Decoracion\n",
    "\n",
    "ax1.semilogx(w, mag) # Eje x logarítmico\n",
    "ax2.semilogx(w, phase) # Eje x logarítmico\n",
    "\n",
    "ax1.set_axis_bgcolor('aliceblue')# Mas decoraciones\n",
    "ax2.set_axis_bgcolor('aliceblue')# Mas decoraciones"
   ]
  },
  {
   "cell_type": "code",
   "execution_count": 83,
   "metadata": {
    "collapsed": false
   },
   "outputs": [],
   "source": [
    "# Usamos el método interpolate de scipy\n",
    "M_W = interpolate.interp1d(mag,w) # Ingresa ganancia, devuelve frecuencia \n",
    "W_M = interpolate.interp1d(w,mag) # ingresa frecuencia, duevuelve ganancia\n",
    "P_W = interpolate.interp1d(phase,w)\n",
    "W_P = interpolate.interp1d(w,phase)"
   ]
  },
  {
   "cell_type": "code",
   "execution_count": 84,
   "metadata": {
    "collapsed": false
   },
   "outputs": [
    {
     "data": {
      "text/plain": [
       "array(4.436397910885376)"
      ]
     },
     "execution_count": 84,
     "metadata": {},
     "output_type": "execute_result"
    }
   ],
   "source": [
    "M_W(0) # 1.8028696116307432 rd para ganancia 0\n",
    "W_P(1.8028696116307432) # Angulo de -192.97900193093383 para ganancia cero\n",
    "P_W(-180) #1.4143192918261236 rd para fase -180\n",
    "W_M(1.4143192918261236)# 4.436397910885376 dBs para fase = -180"
   ]
  },
  {
   "cell_type": "code",
   "execution_count": 85,
   "metadata": {
    "collapsed": false
   },
   "outputs": [
    {
     "data": {
      "image/png": "[encoded data removed]",
      "text/plain": [
       "<matplotlib.figure.Figure at 0x7fbb90a1ff98>"
      ]
     },
     "execution_count": 85,
     "metadata": {},
     "output_type": "execute_result"
    }
   ],
   "source": [
    "# Cruce de fase por -180 grados\n",
    "ax1.vlines(1.4143192918261236, 4.436397910885376, 0, colors=u'k', linestyles=u'solid') #, Av en cruce de fas'\n",
    "ax2.vlines(1.4143192918261236,-180,-80,colors=u'k', linestyles=u'solid')\n",
    "\n",
    "ax1.text(1.4143192918261236, 4.436397910885376, u'ganancia: \\n $4.36dB$', withdash=True,\n",
    "         dashdirection=1,\n",
    "         dashlength=15,\n",
    "         rotation=0,\n",
    "         dashrotation=45,\n",
    "         dashpush=8,\n",
    "         )\n",
    "\n",
    "#Cruce de ganancia por 0 dBs\n",
    "ax1.vlines(1.8028696116307432,0,-60)\n",
    "ax2.vlines(1.8028696116307432,-180,-192.97900193093383)\n",
    "\n",
    "ax2.text(1.8028696116307432, -192.97900193093383, u'fase: -192º', withdash=True,\n",
    "         dashdirection=0,\n",
    "         dashlength=10,\n",
    "         rotation=0,\n",
    "         dashrotation=60,\n",
    "         dashpush=5,\n",
    "         )   \n",
    "\n",
    "\n",
    "fig"
   ]
  },
  {
   "cell_type": "markdown",
   "metadata": {},
   "source": [
    "[Index](index.ipynb)"
   ]
  },
  {
   "cell_type": "code",
   "execution_count": 71,
   "metadata": {
    "collapsed": false
   },
   "outputs": [],
   "source": []
  },
  {
   "cell_type": "code",
   "execution_count": null,
   "metadata": {
    "collapsed": false
   },
   "outputs": [],
   "source": []
  }
 ],
 "metadata": {
  "kernelspec": {
   "display_name": "Python 3",
   "language": "python",
   "name": "python3"
  },
  "language_info": {
   "codemirror_mode": {
    "name": "ipython",
    "version": 3
   },
   "file_extension": ".py",
   "mimetype": "text/x-python",
   "name": "python",
   "nbconvert_exporter": "python",
   "pygments_lexer": "ipython3",
   "version": "3.4.3"
  }
 },
 "nbformat": 4,
 "nbformat_minor": 0
}
