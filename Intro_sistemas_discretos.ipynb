{
 "metadata": {
  "name": "",
  "signature": "sha256:b1781e3efe7e056d47320ac644eb56f5e43619dd978dd10ed37bcd2f97f4805e"
 },
 "nbformat": 3,
 "nbformat_minor": 0,
 "worksheets": [
  {
   "cells": [
    {
     "cell_type": "markdown",
     "metadata": {},
     "source": [
      "* Secuencia impulso:\n",
      "\n",
      "$$\\{\\delta_k\\} = \\{1,0,0,0,0,0,0,0,0,...\\}$$\n",
      "\n",
      "* Secuencia escal\u00f3n:\n",
      "\n",
      "$$\\{u_k\\} = \\{1,1,1,1,1,1,1,1,1,...\\}$$\n",
      "\n",
      "* Secuencia rampa:\n",
      "\n",
      "$$\\{\\delta_k\\} = \\{1,2,3,4,5,6,7,8,9,...\\}$$\n",
      "\n"
     ]
    },
    {
     "cell_type": "markdown",
     "metadata": {},
     "source": [
      "**Clasificaci\u00f3n de los sistemas:**\n",
      "\n",
      "* __Est\u00e1ticos__: Un elemento de la secuencia de salida s\u00f3lo depende del elemento del mismo \u00edndice en la entrada.\n",
      "\n",
      "* __Din\u00e1micos__: El elemento de salida depende de elementos de entrada y salida de distintos \u00edndices.\n",
      "    * __CAUSAL__: El sistema s\u00f3lo utiliza \u00edndices anteriores o iguales al \u00edndice se la salida.\n",
      "    * __NO CASUAL__: El sistema puede por ejemplo estimar futuros \u00edndices y usarlos como alimentaci\u00f3n. (cuyo estudio queda fuera del alcance de estos apuntes.)\n",
      "    \n",
      "__Sistema discreto lineal__\n",
      "\n",
      "* Ecuaci\u00f3n en diferencias:\n",
      "$$ y_k = a_1y_{k-1} + a_2y_{k-2} + ... + a_ny_{k-n} + ... + b_0x_k + b_1x_{k-1} + ...+ b_mx_{k-m}$$"
     ]
    },
    {
     "cell_type": "code",
     "collapsed": false,
     "input": [],
     "language": "python",
     "metadata": {},
     "outputs": [],
     "prompt_number": 0
    },
    {
     "cell_type": "markdown",
     "metadata": {},
     "source": [
      "[index](index.ipynb)"
     ]
    }
   ],
   "metadata": {}
  }
 ]
}