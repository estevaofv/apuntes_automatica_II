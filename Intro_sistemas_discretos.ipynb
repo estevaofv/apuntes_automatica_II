{
 "cells": [
  {
   "cell_type": "markdown",
   "metadata": {},
   "source": [
    "# Intro"
   ]
  },
  {
   "cell_type": "markdown",
   "metadata": {},
   "source": [
    "* Secuencia impulso:\n",
    "\n",
    "$$\\{\\delta_k\\} = \\{1,0,0,0,0,0,0,0,0,...\\}$$\n",
    "\n",
    "* Secuencia escalón:\n",
    "\n",
    "$$\\{u_k\\} = \\{1,1,1,1,1,1,1,1,1,...\\}$$\n",
    "\n",
    "* Secuencia rampa:\n",
    "\n",
    "$$\\{x_k\\} = \\{1,2,3,4,5,6,7,8,9,...\\}$$\n",
    "\n"
   ]
  },
  {
   "cell_type": "markdown",
   "metadata": {},
   "source": [
    "**Clasificación de los sistemas:**\n",
    "\n",
    "* __Estáticos__: Un elemento de la secuencia de salida sólo depende del elemento del mismo índice en la entrada.\n",
    "\n",
    "* __Dinámicos__: El elemento de salida depende de elementos de entrada y salida de distintos índices.\n",
    "    * __CAUSAL__: El sistema sólo utiliza índices anteriores o iguales al índice se la salida.\n",
    "    * __NO CASUAL__: El sistema puede por ejemplo estimar futuros índices y usarlos como alimentación. (cuyo estudio queda fuera del alcance de estos apuntes.)\n",
    "    \n",
    "__Sistema discreto lineal__\n",
    "\n",
    "* Ecuación en diferencias:\n",
    "$$ y_k = a_1y_{k-1} + a_2y_{k-2} + ... + a_ny_{k-n} + ... + b_0x_k + b_1x_{k-1} + ...+ b_mx_{k-m}$$"
   ]
  },
  {
   "cell_type": "markdown",
   "metadata": {},
   "source": [
    "## Transformada Z"
   ]
  },
  {
   "cell_type": "markdown",
   "metadata": {},
   "source": [
    "$$z=e^s$$\n",
    "\n",
    "$X(z) = \\mathcal{Z}\\{x_k\\}= \\sum_{k=0}^{\\infty}x_k \\cdot z^{-k}$\n",
    "\n",
    "**Ejemplos de la transformada de Z:**\n",
    "\n",
    "* Impulso:\n",
    "\n",
    "$\\mathcal{Z}\\{ \\delta \\cdot k\\} = \\sum _{k=0}^{\\infty} \\delta_x \\cdot z^{-1} = 1 \\cdot \\frac{1}{z^0}=1$\n",
    "\n",
    "* Escalón:\n",
    "\n",
    "$\\mathcal{Z}\\{ 1\\cdot k \\} = \\sum _{k=0}^{\\infty} z^{-k} = \\frac{1}{1-z^{-1}} = \\frac{z}{z-1}$\n",
    "\n",
    "* Secuencia exponencial:\n",
    "\n",
    "$\\mathcal{Z}\\{a^k \\} = \\sum _{k=0}^{\\infty} a^k \\cdot z^{-k} = \\frac{1}{1-a\\cdot z^{-1}}=\\frac{z}{z-a}$\n"
   ]
  },
  {
   "cell_type": "markdown",
   "metadata": {},
   "source": [
    "## Propiedades de la transformada Z"
   ]
  },
  {
   "cell_type": "markdown",
   "metadata": {},
   "source": [
    "** Linealidad **\n",
    "\n",
    "$a \\mathcal{Z}[X_k]+ b \\mathcal{Z}[Y_k] = \\mathcal{Z} [aX_k + bY_k] $\n",
    "\n",
    "** Desplazamiento **\n",
    "\n",
    "$\\mathcal{Z}[X_{k-n}] = z^{-n}\\cdot \\mathcal{Z}[X_k]$\n",
    "\n",
    "$\\mathcal{Z}[\\delta_{k-n}]=z^{-n}$\n",
    "\n",
    "** Multiplicación exponencial **\n",
    "\n",
    "$\\mathcal{Z}[x_k] = X(z)$\n",
    "\n",
    "$\\mathcal{Z}[a^kx_k] = X[a^{-1}x_k]$\n",
    "\n",
    "** Derivada **\n",
    "\n",
    "$\\mathcal{Z}[x_k] = X(x)$\n",
    "\n",
    "$\\mathcal{Z}[k \\cdot x_k] = -z\\frac{dX(z)}{dz}$\n",
    "\n",
    "** Teorema del valor inicial **\n",
    "\n",
    "$x_0 = \\lim_{z \\rightarrow \\infty} X(z)$\n",
    "\n",
    "** Teorema del valor final ** \n",
    "\n",
    "$X_{\\infty} = \\lim_{k \\rightarrow \\infty} x_k = \\lim_{z \\rightarrow 1}[(1-z^{-1})\\cdot X(z)]$"
   ]
  },
  {
   "cell_type": "markdown",
   "metadata": {},
   "source": [
    "## Tabla Reguladores"
   ]
  },
  {
   "cell_type": "markdown",
   "metadata": {},
   "source": [
    "\n",
    "|         | Derivada hacia atrás | Derivada hacia adelante | Operador integración trapezoidal| \n",
    "|:-------:|:--------------------:|:-----------------------:|:-------------------------------:|\n",
    "|         | $s = \\frac{z-1}{Tz}$ | $s=\\frac{z-1}{T}$       | $s=\\frac{2}{S}\\frac{z-1}{z+1}$  |\n",
    "|$PD: k_p(1+T_ds)$ | $K\\frac{z-a}{z}$ con $\\begin{cases} k=\\frac{k_p(T+T_d)}{T} \\\\ a=\\frac{T_d}{T+T_d} \\end{cases}$  |  $K(z+a)$ con $\\begin{cases} K=\\frac{k_pT_d}{T} \\\\ a= \\frac{T-T_d}{T_d}\\end{cases}$ | $K\\frac{z+a}{z+1}$con $\\begin{cases} K=\\frac{k_p(T+2T_d)}{T} \\\\ a=\\frac{T-2T_d}{T+2T_d} \\end{cases}$|\n",
    "|PI: $k_p(1+\\frac{1}{T_is})$     |  $K\\frac{z-a}{z-1}$ con $\\begin{cases} K=\\frac{k_p(T+T_i)}{T_i} \\\\ a=\\frac{T_i}{T+T_i}\\end{cases}$| $K\\frac{z+a}{z-1}$ con $\\begin{cases} K=k_p \\\\ a = \\frac{T-T_i}{T_i} \\end{cases}$ | $K\\frac{z+a}{z-1}$ con $\\begin{cases}K=\\frac{k_p(T+2T_i)}{2T_i} \\\\ a=\\frac{T-2T_i}{T+2T_i} \\end{cases}$|\n"
   ]
  },
  {
   "cell_type": "markdown",
   "metadata": {},
   "source": [
    "## Más info:"
   ]
  },
  {
   "cell_type": "code",
   "execution_count": 4,
   "metadata": {
    "collapsed": false
   },
   "outputs": [
    {
     "data": {
      "text/html": [
       "\n",
       "        <iframe\n",
       "            width=\"100%\"\n",
       "            height=500\"\n",
       "            src=\"http://es.wikipedia.org/wiki/Transformada_Z\"\n",
       "            frameborder=\"0\"\n",
       "            allowfullscreen\n",
       "        ></iframe>\n",
       "        "
      ],
      "text/plain": [
       "<IPython.lib.display.IFrame at 0x7fb9653740f0>"
      ]
     },
     "execution_count": 4,
     "metadata": {},
     "output_type": "execute_result"
    }
   ],
   "source": [
    "from IPython.display import IFrame\n",
    "IFrame('http://es.wikipedia.org/wiki/Transformada_Z', width='100%', height=500)"
   ]
  },
  {
   "cell_type": "markdown",
   "metadata": {},
   "source": [
    "[index](index.ipynb)"
   ]
  }
 ],
 "metadata": {
  "kernelspec": {
   "display_name": "Python 3",
   "language": "python",
   "name": "python3"
  },
  "language_info": {
   "codemirror_mode": {
    "name": "ipython",
    "version": 3
   },
   "file_extension": ".py",
   "mimetype": "text/x-python",
   "name": "python",
   "nbconvert_exporter": "python",
   "pygments_lexer": "ipython3",
   "version": "3.4.3"
  }
 },
 "nbformat": 4,
 "nbformat_minor": 0
}
