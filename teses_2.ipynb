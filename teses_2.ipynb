{
 "metadata": {
  "name": "",
  "signature": "sha256:0df4dc1f04074991bd70e1e67e2d3f6736f4cbed27accbdab579abbabc663d21"
 },
 "nbformat": 3,
 "nbformat_minor": 0,
 "worksheets": [
  {
   "cells": [
    {
     "cell_type": "code",
     "collapsed": false,
     "input": [
      "from scipy import signal\n",
      "import numpy as np\n",
      "#init_printing(use_latex=True)\n",
      "import matplotlib.pyplot as plt\n",
      "%matplotlib inline"
     ],
     "language": "python",
     "metadata": {},
     "outputs": [],
     "prompt_number": 1
    },
    {
     "cell_type": "code",
     "collapsed": false,
     "input": [
      "def series(sys1, sys2):\n",
      "    \"\"\"Series connection of two systems.\n",
      "    \"\"\"\n",
      "    if not isinstance(sys1, signal.lti):\n",
      "        sys1 = signal.lti(*sys1)\n",
      "    if not isinstance(sys2, signal.lti):\n",
      "        sys2 = signal.lti(*sys2)\n",
      "    num = np.polymul(sys1.num, sys2.num)\n",
      "    den = np.polymul(sys1.den, sys2.den)\n",
      "    sys = signal.lti(num, den)\n",
      "    return sys\n",
      "def feedback(plant, sensor=None):\n",
      "    \"\"\"Negative feedback connection of plant and sensor.\n",
      "    If sensor is None, then it is assumed to be 1.\n",
      "    \"\"\"\n",
      "    if not isinstance(plant, signal.lti):\n",
      "        plant = signal.lti(*plant)\n",
      "    if sensor is None:\n",
      "        sensor = signal.lti([1], [1])\n",
      "    elif not isinstance(sensor, signal.lti):\n",
      "        sensor = signal.lti(*sensor)\n",
      "    num = np.polymul(plant.num, sensor.den)\n",
      "    den = np.polyadd(np.polymul(plant.den, sensor.den),\n",
      "                     np.polymul(plant.num, sensor.num))\n",
      "    sys = signal.lti(num, den)\n",
      "    return sys\n",
      "\n",
      "\n",
      "def error(plant, sensor=None, entrada=None):\n",
      "    \"\"\"Negative feedback connection of plant and sensor.\n",
      "    If sensor is None, then it is assumed to be 1.\n",
      "    \"\"\"\n",
      "    if not isinstance(plant, signal.lti):\n",
      "        plant = signal.lti(*plant)\n",
      "\n",
      "    if sensor is None:\n",
      "        sensor = signal.lti([1], [1])\n",
      "    elif not isinstance(sensor, signal.lti):\n",
      "        sensor = signal.lti(*sensor)\n",
      "        \n",
      "\n",
      "    if entrada is None:\n",
      "        entrada = signal.lti([1], [1])\n",
      "    elif not isinstance(entrada, signal.lti):\n",
      "        entrada = signal.lti(*entrada) \n",
      " \n",
      "        \n",
      "        \n",
      " #   aux = np.polymul(plant.den, sensor.den)\n",
      "    num = np.polymul(np.polymul(plant.den, sensor.den),entrada.num)\n",
      "    den = np.polyadd(np.polymul(np.polymul(plant.den, sensor.den),entrada.den),\n",
      "                     np.polymul(np.polymul(plant.num, sensor.num),entrada.den))\n",
      "    sys = signal.lti(num, den)\n",
      "    return sys"
     ],
     "language": "python",
     "metadata": {},
     "outputs": [],
     "prompt_number": 2
    },
    {
     "cell_type": "code",
     "collapsed": false,
     "input": [
      "k=([1],[1])\n",
      "planta=([1],[1,3,7])\n",
      "sensor=([2],[1,4])"
     ],
     "language": "python",
     "metadata": {},
     "outputs": [],
     "prompt_number": 3
    },
    {
     "cell_type": "code",
     "collapsed": false,
     "input": [
      "proto_FTLA = series(k,planta)\n",
      "FTLA = series (proto_FTLA,planta)\n",
      "proto_FTLC = series (k,planta)\n",
      "FTLC = feedback(proto_FTLC,sensor)"
     ],
     "language": "python",
     "metadata": {},
     "outputs": [],
     "prompt_number": 10
    },
    {
     "cell_type": "code",
     "collapsed": false,
     "input": [
      "w, mag, phase = signal.bode(FTLA)"
     ],
     "language": "python",
     "metadata": {},
     "outputs": [],
     "prompt_number": 11
    },
    {
     "cell_type": "code",
     "collapsed": false,
     "input": [
      "plt.plot(FTLA.zeros.real, FTLA.zeros.imag, 'o')\n",
      "plt.plot(FTLA.poles.real, FTLA.poles.imag, 'x')"
     ],
     "language": "python",
     "metadata": {},
     "outputs": [
      {
       "metadata": {},
       "output_type": "pyout",
       "prompt_number": 12,
       "text": [
        "[<matplotlib.lines.Line2D at 0x7f843d5bb1d0>]"
       ]
      },
      {
       "metadata": {},
       "output_type": "display_data",
       "png": "[encoded data removed]",
       "text": [
        "<matplotlib.figure.Figure at 0x7f843d036c18>"
       ]
      }
     ],
     "prompt_number": 12
    },
    {
     "cell_type": "code",
     "collapsed": false,
     "input": [
      "for i in range(0,50):\n",
      "    #print(i)\n",
      "    k=([i],[1])\n",
      "    proto_FTLA = series(k,planta)\n",
      "    proto_FTLC = series (k,planta)\n",
      "    FTLC = feedback(proto_FTLC,sensor)\n",
      "    plt.plot(FTLC.zeros.real, FTLC.zeros.imag, 'o')\n",
      "    plt.plot(FTLC.poles.real, FTLC.poles.imag, 'x')"
     ],
     "language": "python",
     "metadata": {},
     "outputs": [
      {
       "metadata": {},
       "output_type": "display_data",
       "png": "[encoded data removed]",
       "text": [
        "<matplotlib.figure.Figure at 0x7f843b8bc6a0>"
       ]
      }
     ],
     "prompt_number": 17
    },
    {
     "cell_type": "code",
     "collapsed": false,
     "input": [
      "FTLC.poles.real"
     ],
     "language": "python",
     "metadata": {},
     "outputs": [
      {
       "metadata": {},
       "output_type": "pyout",
       "prompt_number": 18,
       "text": [
        "array([-6.89479732, -0.05260134, -0.05260134])"
       ]
      }
     ],
     "prompt_number": 18
    },
    {
     "cell_type": "code",
     "collapsed": false,
     "input": [],
     "language": "python",
     "metadata": {},
     "outputs": []
    }
   ],
   "metadata": {}
  }
 ]
}