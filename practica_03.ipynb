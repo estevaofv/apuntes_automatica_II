{
 "metadata": {
  "name": "",
  "signature": "sha256:86e0d51f892680ef654f7b7809f0bc14ad195b50ce84cdb706142a6677f34b8e"
 },
 "nbformat": 3,
 "nbformat_minor": 0,
 "worksheets": [
  {
   "cells": [
    {
     "cell_type": "markdown",
     "metadata": {},
     "source": [
      "**Jairo Estefan\u00eda**\n",
      "\n",
      "**\u00c1lvaro Sierra**"
     ]
    },
    {
     "cell_type": "code",
     "collapsed": false,
     "input": [
      "from scipy import signal\n",
      "\n",
      "import numpy as np\n",
      "import matplotlib.pyplot as plt\n",
      "%matplotlib inline"
     ],
     "language": "python",
     "metadata": {},
     "outputs": [],
     "prompt_number": 2
    },
    {
     "cell_type": "code",
     "collapsed": false,
     "input": [
      "from user_functions import series, feedback, error, Ms, tr\n",
      "from user_functions import *"
     ],
     "language": "python",
     "metadata": {},
     "outputs": [],
     "prompt_number": 3
    },
    {
     "cell_type": "markdown",
     "metadata": {},
     "source": [
      "Dado el siguiente sistema de control:\n",
      "\n",
      "[img]\n",
      "\n",
      "**1.- Representa la evoluci\u00f3n de la respuesta del sistema ante una entrada escal\u00f3n unitario, as\u00ed como la evoluci\u00f3n de la se\u00f1al de error, cuando la ganancia k=2. Obt\u00e9n las caracter\u00edsticas temporales en este caso.\u00bfCu\u00e1l es el error en r\u00e9gimen permanente?**"
     ]
    },
    {
     "cell_type": "code",
     "collapsed": false,
     "input": [
      "k = ([2],[1])\n",
      "planta = ([10],[2, 6, 9])\n",
      "sensor = signal.lti([4],[1,8])\n",
      "lazo_directo = series(k,planta)\n",
      "TLC = feedback(lazo_directo,sensor)\n",
      "TLA = series(lazo_directo,sensor)\n",
      "err = error(plant=lazo_directo)\n",
      "\n"
     ],
     "language": "python",
     "metadata": {},
     "outputs": [],
     "prompt_number": 4
    },
    {
     "cell_type": "code",
     "collapsed": false,
     "input": [
      "x1,y1 = signal.step2(TLC)\n",
      "x2,y2 = signal.step2(err,T=np.arange(0,6,0.05))\n",
      "#fig, (ax1,ax2) = plt.subplots(2,1,figsize=(8,9))\n",
      "plt.plot(x1,y1,x2,y2)\n",
      "#ax2.plot(x2,y2)\n",
      "print(y1[-1])\n",
      "print(y2[-1]) "
     ],
     "language": "python",
     "metadata": {},
     "outputs": [
      {
       "output_type": "stream",
       "stream": "stdout",
       "text": [
        "1.05339098733\n",
        "0.310344821159\n"
       ]
      },
      {
       "metadata": {},
       "output_type": "display_data",
       "png": "[encoded data removed]",
       "text": [
        "<matplotlib.figure.Figure at 0x7f4ae4a90710>"
       ]
      }
     ],
     "prompt_number": 23
    },
    {
     "cell_type": "markdown",
     "metadata": {},
     "source": []
    },
    {
     "cell_type": "markdown",
     "metadata": {},
     "source": [
      "2.- **Dibuja el lugar de las raices y obt\u00e9n el rango de valores de k para los cuales el sistema mantiene un comportamiento estable. \u00bfCu\u00e1l es la disposici\u00f3n de las raices en el rango de estabilidad?**"
     ]
    },
    {
     "cell_type": "code",
     "collapsed": false,
     "input": [
      "#x=np.arange(0,2000,1)\n",
      "#ex=np.exp(x)\n",
      "#for a in np.arange(0,100):\n",
      "k=([1],[1])\n",
      "lazo_directo = series(k,planta)\n",
      "  #  TLC = feedback(lazo_directo,sensor)\n",
      "TLA = series(lazo_directo,sensor)\n",
      "   # err = error(plant=lazo_directo)\n",
      "#    plt.plot(TLA.zeros.real, TLA.zeros.imag, 'o')\n",
      "#    plt.plot(TLA.poles.real, TLA.poles.imag, 'x')\n",
      "w, H = signal.freqresp(TLA)\n",
      "fig, (ax1, ax2) = plt.subplots(1, 2, figsize=(8, 4))\n",
      "ax1.plot(H.real, H.imag)\n",
      "ax1.plot(H.real, -H.imag)\n",
      "ax2.plot(TLA.zeros.real, TLA.zeros.imag, 'o')\n",
      "ax2.plot(TLA.poles.real, TLA.poles.imag, 'x')"
     ],
     "language": "python",
     "metadata": {},
     "outputs": [
      {
       "metadata": {},
       "output_type": "pyout",
       "prompt_number": 6,
       "text": [
        "[<matplotlib.lines.Line2D at 0x7f4ae4eb6fd0>]"
       ]
      },
      {
       "metadata": {},
       "output_type": "display_data",
       "png": "[encoded data removed]",
       "text": [
        "<matplotlib.figure.Figure at 0x7f4ae4f7bf98>"
       ]
      }
     ],
     "prompt_number": 6
    },
    {
     "cell_type": "code",
     "collapsed": false,
     "input": [
      "signal.impulse??"
     ],
     "language": "python",
     "metadata": {},
     "outputs": [],
     "prompt_number": 8
    },
    {
     "cell_type": "code",
     "collapsed": false,
     "input": [],
     "language": "python",
     "metadata": {},
     "outputs": [],
     "prompt_number": 35
    },
    {
     "cell_type": "code",
     "collapsed": false,
     "input": [],
     "language": "python",
     "metadata": {},
     "outputs": [],
     "prompt_number": 34
    },
    {
     "cell_type": "code",
     "collapsed": false,
     "input": [],
     "language": "python",
     "metadata": {},
     "outputs": [],
     "prompt_number": 35
    },
    {
     "cell_type": "code",
     "collapsed": false,
     "input": [],
     "language": "python",
     "metadata": {},
     "outputs": []
    }
   ],
   "metadata": {}
  }
 ]
}