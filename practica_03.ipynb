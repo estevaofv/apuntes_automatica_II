{
 "metadata": {
  "name": "",
  "signature": "sha256:334d474c19392a2ac12e1fbcd87dcb725e30ed1e32a77570ecdfba134071cb23"
 },
 "nbformat": 3,
 "nbformat_minor": 0,
 "worksheets": [
  {
   "cells": [
    {
     "cell_type": "markdown",
     "metadata": {},
     "source": [
      "**Jairo Estefan\u00eda**\n",
      "\n",
      "**\u00c1lvaro Sierra**"
     ]
    },
    {
     "cell_type": "code",
     "collapsed": false,
     "input": [
      "from scipy import signal\n",
      "\n",
      "import numpy as np\n",
      "#init_printing(use_latex=True)\n",
      "import matplotlib.pyplot as plt\n",
      "%matplotlib inline"
     ],
     "language": "python",
     "metadata": {},
     "outputs": [],
     "prompt_number": 50
    },
    {
     "cell_type": "code",
     "collapsed": false,
     "input": [
      "#Python no trae una funci\u00f3n para conectar funciones de transferencia en serie o \n",
      "#retroalimentadas, asi que con ayuda del equipo de pybonacci creamos unas funciones.\n",
      "#http://pybonacci.org/2013/10/10/teoria-de-control-en-python-con-scipy-i/\n",
      "#http://pybonacci.org/2013/11/06/teoria-de-control-en-python-con-scipy-ii-control-pid/\n",
      "\n",
      "def series(sys1, sys2):\n",
      "    \"\"\"Series connection of two systems.\n",
      "    \"\"\"\n",
      "    if not isinstance(sys1, signal.lti):\n",
      "        sys1 = signal.lti(*sys1)\n",
      "    if not isinstance(sys2, signal.lti):\n",
      "        sys2 = signal.lti(*sys2)\n",
      "    num = np.polymul(sys1.num, sys2.num)\n",
      "    den = np.polymul(sys1.den, sys2.den)\n",
      "    sys = signal.lti(num, den)\n",
      "    return sys\n",
      "def feedback(plant, sensor=None):\n",
      "    \"\"\"Negative feedback connection of plant and sensor.\n",
      "    If sensor is None, then it is assumed to be 1.\n",
      "    \"\"\"\n",
      "    if not isinstance(plant, signal.lti):\n",
      "        plant = signal.lti(*plant)\n",
      "    if sensor is None:\n",
      "        sensor = signal.lti([1], [1])\n",
      "    elif not isinstance(sensor, signal.lti):\n",
      "        sensor = signal.lti(*sensor)\n",
      "    num = np.polymul(plant.num, sensor.den)\n",
      "    den = np.polyadd(np.polymul(plant.den, sensor.den),\n",
      "                     np.polymul(plant.num, sensor.num))\n",
      "    sys = signal.lti(num, den)\n",
      "    return sys\n",
      "\n",
      "\n",
      "def error(plant, sensor=None, entrada=None):\n",
      "    \"\"\"Negative feedback connection of plant and sensor.\n",
      "    If sensor is None, then it is assumed to be 1.\n",
      "    \"\"\"\n",
      "    if not isinstance(plant, signal.lti):\n",
      "        plant = signal.lti(*plant)\n",
      "\n",
      "    if sensor is None:\n",
      "        sensor = signal.lti([1], [1])\n",
      "    elif not isinstance(sensor, signal.lti):\n",
      "        sensor = signal.lti(*sensor)\n",
      "        \n",
      "\n",
      "    if entrada is None:\n",
      "        entrada = signal.lti([1], [1])\n",
      "    elif not isinstance(entrada, signal.lti):\n",
      "        entrada = signal.lti(*entrada) \n",
      " \n",
      "        \n",
      "        \n",
      " #   aux = np.polymul(plant.den, sensor.den)\n",
      "    num = np.polymul(np.polymul(plant.den, sensor.den),entrada.num)\n",
      "    den = np.polyadd(np.polymul(np.polymul(plant.den, sensor.den),entrada.den),\n",
      "                     np.polymul(np.polymul(plant.num, sensor.num),entrada.den))\n",
      "    sys = signal.lti(num, den)\n",
      "    return sys\n",
      "\n",
      "\n",
      "# De la misma manera, construimos una funci\u00f3n para que nos devuelva el tiempo de \n",
      "# respuesta y el sobredisparo.\n",
      "\n",
      "def tr(t, y, ys=None, margins=(0.0, 1.0)):\n",
      "    \"\"\"Rise time.\n",
      "    Other possible margins: (0.05, 0.95), (0.1, 0.9). If no ys is given,\n",
      "    then last value of y is assumed as stationary.\n",
      "    \"\"\"\n",
      "    if ys is None:\n",
      "        ys = y[-1]\n",
      "    # Values between margins[0] * ys and margins[1] * ys\n",
      "    mask = (y > margins[0] * ys) & (y < margins[1] * ys)\n",
      "    # If response oscillates, only interested in limits of first region\n",
      "    idx_change = np.nonzero(np.diff(mask))[0]\n",
      "    # Initial and final indexes\n",
      "    idx = idx_change[0], idx_change[1]\n",
      "    # Time difference\n",
      "    return t[idx[1]] - t[idx[0]]\n",
      "def Ms(y, ys=None):\n",
      "    \"\"\"Maximum overshoot.\n",
      "    Other possible margins: (0.05, 0.95), (0.1, 0.9). If no ys is given,\n",
      "    then last value of y is assumed as stationary.\n",
      "    \"\"\"\n",
      "    if ys is None:\n",
      "        ys = y[-1]\n",
      "    ymax = np.max(y)\n",
      "    Ms = (ymax - ys) / ys\n",
      "    return Ms"
     ],
     "language": "python",
     "metadata": {},
     "outputs": [],
     "prompt_number": 51
    },
    {
     "cell_type": "markdown",
     "metadata": {},
     "source": [
      "Dado el siguiente sistema de control:\n",
      "\n",
      "[img]\n",
      "\n",
      "**1.- Representa la evoluci\u00f3n de la respuesta del sistema ante una entrada escal\u00f3n unitario, as\u00ed como la evoluci\u00f3n de la se\u00f1al de error, cuando la ganancia k=2. Obt\u00e9n las caracter\u00edsticas temporales en este caso.\u00bfCu\u00e1l es el error en r\u00e9gimen permanente?**"
     ]
    },
    {
     "cell_type": "code",
     "collapsed": false,
     "input": [
      "k = ([2],[1])\n",
      "planta = ([10],[2, 6, 9])\n",
      "Sensor = signal.lti([4],[1,8])\n",
      "lazo_directo = series(k,planta)\n",
      "TLC = feedback(lazo_directo,sensor)\n",
      "TLA = series(lazo_directo,sensor)\n",
      "err = error(plant=lazo_directo)\n",
      "\n"
     ],
     "language": "python",
     "metadata": {},
     "outputs": [],
     "prompt_number": 52
    },
    {
     "cell_type": "code",
     "collapsed": false,
     "input": [
      "x1,y1 = signal.step2(TLC)\n",
      "x2,y2 = signal.step2(err)\n",
      "fig, (ax1,ax2) = plt.subplots(2,1,figsize=(8,9))\n",
      "ax1.plot(x1,y1,x2,y2)\n",
      "#ax2.plot(x2,y2)\n",
      "print(y1[-1])\n",
      "print(y2[-1]) #Aqui hay algo que no cuerda"
     ],
     "language": "python",
     "metadata": {},
     "outputs": [
      {
       "output_type": "stream",
       "stream": "stdout",
       "text": [
        "1.05339098733\n",
        "0.309677254565\n"
       ]
      },
      {
       "metadata": {},
       "output_type": "display_data",
       "png": "[encoded data removed]",
       "text": [
        "<matplotlib.figure.Figure at 0x7fc0de1446a0>"
       ]
      }
     ],
     "prompt_number": 53
    },
    {
     "cell_type": "code",
     "collapsed": false,
     "input": [],
     "language": "python",
     "metadata": {},
     "outputs": [],
     "prompt_number": 53
    },
    {
     "cell_type": "code",
     "collapsed": false,
     "input": [],
     "language": "python",
     "metadata": {},
     "outputs": [],
     "prompt_number": 48
    },
    {
     "cell_type": "code",
     "collapsed": false,
     "input": [],
     "language": "python",
     "metadata": {},
     "outputs": []
    }
   ],
   "metadata": {}
  }
 ]
}