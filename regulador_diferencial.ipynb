{
 "cells": [
  {
   "cell_type": "markdown",
   "metadata": {},
   "source": [
    "### Regulador (proporcional) Derivativo"
   ]
  },
  {
   "cell_type": "markdown",
   "metadata": {},
   "source": [
    "1. Permite introducir una ganancia en el sistema.\n",
    "\n",
    "2. Actua sobre la derivada (evolución) del error.\n",
    "\n",
    "2. Para condiciones temporales.\n",
    "\n"
   ]
  },
  {
   "cell_type": "markdown",
   "metadata": {},
   "source": [
    "** Condiciones **\n",
    "\n",
    "<img width = 25% align=right src=\"img/sistema_02.svg\">\n",
    "\n",
    "$t_s = \\frac {3} {\\sigma} \\quad \\rightarrow \\quad \\frac{3}{\\sigma} \\leq 1 \\quad \\rightarrow  \\quad \\sigma \\geq 3$\n",
    "\n"
   ]
  },
  {
   "cell_type": "markdown",
   "metadata": {},
   "source": [
    "* Se basa en la predicción lineal del valor del error dentro de  $T_d$ segiundos $\\rightarrow$ [...]\n",
    "\n",
    "$D(s) = k_p + k_ds$\n",
    "\n",
    "$U(s) = k_pE(s)+ k_dE(s)$\n"
   ]
  },
  {
   "cell_type": "markdown",
   "metadata": {},
   "source": [
    "$D(s) = k_p + k_ds = k_p(1 + \\frac{k_d}{k_i}s) = k_p(1+T_ds)$\n",
    "\n"
   ]
  },
  {
   "cell_type": "code",
   "execution_count": null,
   "metadata": {
    "collapsed": false
   },
   "outputs": [],
   "source": []
  }
 ],
 "metadata": {
  "kernelspec": {
   "display_name": "Python 3",
   "language": "python",
   "name": "python3"
  },
  "language_info": {
   "codemirror_mode": {
    "name": "ipython",
    "version": 3
   },
   "file_extension": ".py",
   "mimetype": "text/x-python",
   "name": "python",
   "nbconvert_exporter": "python",
   "pygments_lexer": "ipython3",
   "version": "3.4.3"
  }
 },
 "nbformat": 4,
 "nbformat_minor": 0
}
