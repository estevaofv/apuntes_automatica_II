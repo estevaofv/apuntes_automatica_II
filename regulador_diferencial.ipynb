{
 "metadata": {
  "name": "",
  "signature": "sha256:d79a6ea4f4420d8185504c34718962fa21fa39b0896dd454f4244916f4695490"
 },
 "nbformat": 3,
 "nbformat_minor": 0,
 "worksheets": [
  {
   "cells": [
    {
     "cell_type": "heading",
     "level": 3,
     "metadata": {},
     "source": [
      "Regulador (proporcional) Derivativo"
     ]
    },
    {
     "cell_type": "markdown",
     "metadata": {},
     "source": [
      "1. Permite introducir una ganancia en el sistema.\n",
      "\n",
      "2. Actua sobre la derivada (evoluci\u00f3n) del error.\n",
      "\n",
      "2. Para condiciones temporales.\n",
      "\n"
     ]
    },
    {
     "cell_type": "markdown",
     "metadata": {},
     "source": [
      "** Condiciones **\n",
      "\n",
      "<img width = 25% align=right src=\"img/sistema_02.svg\">\n",
      "\n",
      "$t_s = \\frac {3} {\\sigma} \\quad \\rightarrow \\quad \\frac{3}{\\sigma} \\leq 1 \\quad \\rightarrow  \\quad \\sigma \\geq 3$\n",
      "\n"
     ]
    },
    {
     "cell_type": "markdown",
     "metadata": {},
     "source": [
      "* Se basa en la predicci\u00f3n lineal del valor del error dentro de  $T_d$ segiundos $\\rightarrow$ [...]\n",
      "\n",
      "$D(s) = k_p + k_ds$\n",
      "\n",
      "$U(s) = k_pE(s)+ k_dE(s)$\n"
     ]
    },
    {
     "cell_type": "markdown",
     "metadata": {},
     "source": [
      "$D(s) = k_p + k_ds = k_p(1 + \\frac{k_d}{k_i}s) = k_p(1+T_ds)$\n",
      "\n"
     ]
    },
    {
     "cell_type": "code",
     "collapsed": false,
     "input": [],
     "language": "python",
     "metadata": {},
     "outputs": []
    }
   ],
   "metadata": {}
  }
 ]
}