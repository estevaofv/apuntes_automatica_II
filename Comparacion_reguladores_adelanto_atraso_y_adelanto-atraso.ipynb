{
 "metadata": {
  "name": "",
  "signature": "sha256:d9335274ee5193d78c13bdb3c10068416e408f3eec3592888088d89db8ca09a2"
 },
 "nbformat": 3,
 "nbformat_minor": 0,
 "worksheets": [
  {
   "cells": [
    {
     "cell_type": "heading",
     "level": 3,
     "metadata": {},
     "source": [
      "Caracter\u00edsticas de los reguladores anal\u00f3gicos estudiados"
     ]
    },
    {
     "cell_type": "markdown",
     "metadata": {},
     "source": [
      "1. \n",
      "    * Adelanto $\\rightarrow$ Adelanto de fase\n",
      "    * retardo $\\rightarrow$ Atenuaci\u00f3n en altas frecuecias\n",
      "\n",
      "2. \n",
      "    * Adelanto $\\rightarrow$ mejora l\u00edmites de estabilidad\n",
      "        * Mayor ancho de banda.\n",
      "        * Menor ts\n",
      "        * Malos contra se\u00f1ales de ruido\n",
      "        \n",
      "3. \n",
      "    * Adelanto $\\rightarrow$ requiere un incremento de ganancia\n",
      "    \n",
      "4. \n",
      "    * Adelanto $\\rightarrow$ puede generar se\u00f1ales en el sistema.\n",
      "        * Puede producir saturaciones.\n",
      "        \n",
      "5. \n",
      "    * Retardo $\\rightarrow$ Reduce la ganancia en HF\n",
      "        * Reduce el ancho de banda\n",
      "        * Responde a una velocidad m\u00e1s lenta\n",
      "        * Mejora la precisi\u00f3n en ruido estacionaria.\n",
      "        \n",
      "6. \n",
      "    * Retardo $\\rightarrow$ introduce una combinaci\u00f3n polo-cero cerca del origen.\n",
      "        * Produce en la regi\u00f3n de transitorios una larga cola de peque\u00f1a amplitud (ah\u00ed queda eso...).\n",
      "        \n",
      "7. \n",
      "    * Retraso - Adelanto\n",
      "        * Incrementa la ganancia en bajas frecuencias\n",
      "        * Mejora la precisi\u00f3n en estado estacionario.\n",
      "        * Incremento del ancho de banda y de los m\u00e1rgenes de estabilidad.\n",
      "        \n",
      "8. \n",
      "   * Retardo, adelanto y retardo-adelanto.\n",
      "       * Sirven para un gran n\u00famero de tareas pr\u00e1cticas de compensaci\u00f3n, pero (no para todo) -No pude copiarlo bien del todo.-\n",
      "    \n",
      "\n"
     ]
    },
    {
     "cell_type": "markdown",
     "metadata": {},
     "source": [
      "[index](index.ipynb)"
     ]
    }
   ],
   "metadata": {}
  }
 ]
}