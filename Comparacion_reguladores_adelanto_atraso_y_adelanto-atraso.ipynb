{
 "cells": [
  {
   "cell_type": "markdown",
   "metadata": {},
   "source": [
    "### Características de los reguladores analógicos estudiados"
   ]
  },
  {
   "cell_type": "markdown",
   "metadata": {},
   "source": [
    "1. \n",
    "    * Adelanto $\\rightarrow$ Adelanto de fase\n",
    "    * retardo $\\rightarrow$ Atenuación en altas frecuecias\n",
    "\n",
    "2. \n",
    "    * Adelanto $\\rightarrow$ mejora límites de estabilidad\n",
    "        * Mayor ancho de banda.\n",
    "        * Menor ts\n",
    "        * Malos contra señales de ruido\n",
    "        \n",
    "3. \n",
    "    * Adelanto $\\rightarrow$ requiere un incremento de ganancia\n",
    "    \n",
    "4. \n",
    "    * Adelanto $\\rightarrow$ puede generar señales en el sistema.\n",
    "        * Puede producir saturaciones.\n",
    "        \n",
    "5. \n",
    "    * Retardo $\\rightarrow$ Reduce la ganancia en HF\n",
    "        * Reduce el ancho de banda\n",
    "        * Responde a una velocidad más lenta\n",
    "        * Mejora la precisión en ruido estacionaria.\n",
    "        \n",
    "6. \n",
    "    * Retardo $\\rightarrow$ introduce una combinación polo-cero cerca del origen.\n",
    "        * Produce en la región de transitorios una larga cola de pequeña amplitud (ahí queda eso...).\n",
    "        \n",
    "7. \n",
    "    * Retraso - Adelanto\n",
    "        * Incrementa la ganancia en bajas frecuencias\n",
    "        * Mejora la precisión en estado estacionario.\n",
    "        * Incremento del ancho de banda y de los márgenes de estabilidad.\n",
    "        \n",
    "8. \n",
    "   * Retardo, adelanto y retardo-adelanto.\n",
    "       * Sirven para un gran número de tareas prácticas de compensación, pero (no para todo) -No pude copiarlo bien del todo.-\n",
    "    \n",
    "\n"
   ]
  },
  {
   "cell_type": "markdown",
   "metadata": {},
   "source": [
    "[index](index.ipynb)"
   ]
  }
 ],
 "metadata": {
  "kernelspec": {
   "display_name": "Python 3",
   "language": "python",
   "name": "python3"
  },
  "language_info": {
   "codemirror_mode": {
    "name": "ipython",
    "version": 3
   },
   "file_extension": ".py",
   "mimetype": "text/x-python",
   "name": "python",
   "nbconvert_exporter": "python",
   "pygments_lexer": "ipython3",
   "version": "3.4.3"
  }
 },
 "nbformat": 4,
 "nbformat_minor": 0
}
