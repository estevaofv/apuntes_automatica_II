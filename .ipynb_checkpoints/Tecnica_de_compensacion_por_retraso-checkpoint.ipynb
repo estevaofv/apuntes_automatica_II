{
 "metadata": {
  "name": "",
  "signature": "sha256:d2ec32214c859296ce4fe9ee40a9bdc43e7e9ca7571e829cfdb326f3063ec97e"
 },
 "nbformat": 3,
 "nbformat_minor": 0,
 "worksheets": []
}