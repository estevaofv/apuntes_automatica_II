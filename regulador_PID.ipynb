{
 "metadata": {
  "name": "",
  "signature": "sha256:7f2b22e189a0e1129e1a49ee98021da33e0f0118164bde4e3255b269bb26f391"
 },
 "nbformat": 3,
 "nbformat_minor": 0,
 "worksheets": [
  {
   "cells": [
    {
     "cell_type": "heading",
     "level": 3,
     "metadata": {},
     "source": [
      "**Regulador PID**"
     ]
    },
    {
     "cell_type": "markdown",
     "metadata": {},
     "source": [
      "$$\\frac{U(s)}{E(s)} = K_p + \\frac{K_i}{s} + K_ds = K_p(1+\\frac{1}{T_is}+T_ds)$$\n",
      "\n",
      "| $T_i = \\frac{K_p}{K_i}$ |\n",
      "|:--------------------:|\n",
      "| $T_d = \\frac{K_d}{K_p}$ |\n"
     ]
    },
    {
     "cell_type": "code",
     "collapsed": false,
     "input": [],
     "language": "python",
     "metadata": {},
     "outputs": []
    }
   ],
   "metadata": {}
  }
 ]
}