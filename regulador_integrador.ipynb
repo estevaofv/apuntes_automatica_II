{
 "cells": [
  {
   "cell_type": "markdown",
   "metadata": {},
   "source": [
    "### Regulador (proporcional) Integrador"
   ]
  },
  {
   "cell_type": "markdown",
   "metadata": {},
   "source": [
    "1. Se basa en la integral del error\n",
    "\n",
    "2. Mientras el error persiste en reg. permanente, la acción del control se incremena.\n",
    "\n",
    "3. En reg. permanente, el error se hace cero (sino seria inestable)\n",
    "\n",
    "4. Introduce un polo en el origen\n",
    "\n",
    "5. Introduce un cero en el plano complejo, a una distancia. \n",
    "\n",
    "6. Necesario introducir elementos activos. (ideal?)\n",
    "\n",
    "7. Mejora el error permanente del sistema."
   ]
  },
  {
   "cell_type": "markdown",
   "metadata": {},
   "source": [
    "$D_{(s)} = k_p + \\frac{ki}{s} = \\frac{k_ps + k_i}{s}$"
   ]
  },
  {
   "cell_type": "markdown",
   "metadata": {},
   "source": [
    "**Solucion 1**\n",
    "\n",
    "Se trata de introducie un polo en el origen y un cero a una distancia de 10 veces más cerca de los antiguos polos dominantes.\n",
    "\n",
    "**Solución 2**\n",
    "Situamos el cero encima del polo mas cercano al origen.\n",
    "\n",
    "* El lugar de las raices se desplaca a la derecha.\n",
    "\n",
    "\n",
    "**Solucion 3**\n",
    "Reducir el sobredisparo al $5\\%$\n",
    "\n",
    " * El tiempo de establecimiento es parecido\n",
    "    \n"
   ]
  },
  {
   "cell_type": "markdown",
   "metadata": {},
   "source": [
    "### PI modificado o de RETARDO DE FASE"
   ]
  },
  {
   "cell_type": "markdown",
   "metadata": {},
   "source": [
    "\n",
    "<img align=right width = 60% src=\"img/PI.svg\">\n",
    "\n",
    "1. El polo no está en el origen\n",
    "\n",
    "2. No es necesario una red activa\n",
    "\n",
    "3. $\\frac{z}{p} \\approx 3 \\tilde{} 10$ \n"
   ]
  },
  {
   "cell_type": "markdown",
   "metadata": {},
   "source": [
    "$D(s) = k_p\\frac{s+z}{s+p}, |z| > |p|$"
   ]
  },
  {
   "cell_type": "markdown",
   "metadata": {},
   "source": [
    "**ejem** \n",
    "\n",
    "| Sistema | Condiciones\n",
    "|:----------:|:-----------|\n",
    "| $D(s)= K_p$  |     $M_p \\leq 30\\%$ |\n",
    "| $G(s) ) \\frac{6(s+8)}{(s+1)(s+3)(s+6)}$ |  $e{rp} \\leq 5\\% $ |\n",
    "| $H(s) = 1$    |       |\n",
    "\n",
    "\n",
    "\n",
    "\n",
    "\n"
   ]
  },
  {
   "cell_type": "markdown",
   "metadata": {},
   "source": [
    "\n",
    "\n",
    "\n",
    "\n"
   ]
  },
  {
   "cell_type": "code",
   "execution_count": null,
   "metadata": {
    "collapsed": false
   },
   "outputs": [],
   "source": []
  }
 ],
 "metadata": {
  "kernelspec": {
   "display_name": "Python 3",
   "language": "python",
   "name": "python3"
  },
  "language_info": {
   "codemirror_mode": {
    "name": "ipython",
    "version": 3
   },
   "file_extension": ".py",
   "mimetype": "text/x-python",
   "name": "python",
   "nbconvert_exporter": "python",
   "pygments_lexer": "ipython3",
   "version": "3.4.3"
  }
 },
 "nbformat": 4,
 "nbformat_minor": 0
}
