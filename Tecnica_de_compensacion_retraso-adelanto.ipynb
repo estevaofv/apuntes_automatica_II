{
 "metadata": {
  "name": "",
  "signature": "sha256:ed4c57539f792b033e84d91864f2248108734648b8db6804fefc21c52eb924f6"
 },
 "nbformat": 3,
 "nbformat_minor": 0,
 "worksheets": [
  {
   "cells": [
    {
     "cell_type": "heading",
     "level": 3,
     "metadata": {},
     "source": [
      "T\u00e9cnica de compensaci\u00f3n retraso-adelanto "
     ]
    },
    {
     "cell_type": "markdown",
     "metadata": {},
     "source": [
      "* Es com\u00fan seleccionar $\\beta = \\gamma$\n",
      "\n",
      "<img align=right width=30% src=\"img/grafica_comp_retardo_adelanto.svg\">\n",
      "\n",
      "$$G(s) = k_c \\frac{s+\\frac{1}{T_1}}{s+\\frac{\\gamma}{T_1}} \\cdot \\frac{s+\\frac{1}{T_2}}{ s+\\frac{1}{\\beta T_2}}$$\n",
      "\n",
      "* para $\\omega < \\omega_1 \\rightarrow$ retraso\n",
      "* para $\\omega < \\omega_1 \\rightarrow$ adelanto\n",
      "\n",
      "[Grafica de Bode]\n",
      "\n",
      "$$\\omega1 = \\frac{1}{\\sqrt{T_1\\cdot T_2}}$$\n",
      "\n",
      "* La parte de adelanto $(T_1)$ a\u00f1ade ganancia de fase e incremento de Margen de Fse.\n",
      "* La parte de retardo $(T_2)$ aten\u00faa cerca y por encima del cruce.\n",
      "\n",
      "\n"
     ]
    },
    {
     "cell_type": "heading",
     "level": 3,
     "metadata": {},
     "source": [
      "Ejemplo:"
     ]
    },
    {
     "cell_type": "markdown",
     "metadata": {},
     "source": [
      " **Dise\u00f1ar un compensador de adelanto-retraso, para $G(s)$ con las siguientes especificaciones:**\n",
      "\n",
      "$$G(s)=\\frac{K}{s(s+1)(s+2)}$$\n",
      "\n",
      "* Error de velocidad: $k_v = 10seg^{-1}$\n",
      "* Margen de fase: $MF=50\u00ba$\n",
      "* Margen de ganancia: $MG = 10dB$\n"
     ]
    },
    {
     "cell_type": "code",
     "collapsed": false,
     "input": [
      "from sympy import *\n",
      "import numpy as np\n",
      "init_printing(use_latex=True)\n",
      "from scipy import signal, interpolate\n",
      "import matplotlib.pyplot as plt\n",
      "%matplotlib inline"
     ],
     "language": "python",
     "metadata": {},
     "outputs": [],
     "prompt_number": 1
    },
    {
     "cell_type": "code",
     "collapsed": false,
     "input": [
      "K=Symbol('K')\n",
      "s=Symbol('s')\n",
      "G= K/(s*(s+1)*(s+2))\n",
      "G"
     ],
     "language": "python",
     "metadata": {},
     "outputs": [
      {
       "latex": [
        "$$\\frac{K}{s \\left(s + 1\\right) \\left(s + 2\\right)}$$"
       ],
       "metadata": {},
       "output_type": "pyout",
       "png": "[encoded data removed]",
       "prompt_number": 2,
       "text": [
        "        K        \n",
        "\u2500\u2500\u2500\u2500\u2500\u2500\u2500\u2500\u2500\u2500\u2500\u2500\u2500\u2500\u2500\u2500\u2500\n",
        "s\u22c5(s + 1)\u22c5(s + 2)"
       ]
      }
     ],
     "prompt_number": 2
    },
    {
     "cell_type": "code",
     "collapsed": false,
     "input": [
      "expand(G)"
     ],
     "language": "python",
     "metadata": {},
     "outputs": [
      {
       "latex": [
        "$$\\frac{K}{s^{3} + 3 s^{2} + 2 s}$$"
       ],
       "metadata": {},
       "output_type": "pyout",
       "png": "[encoded data removed]",
       "prompt_number": 3,
       "text": [
        "       K       \n",
        "\u2500\u2500\u2500\u2500\u2500\u2500\u2500\u2500\u2500\u2500\u2500\u2500\u2500\u2500\u2500\n",
        " 3      2      \n",
        "s  + 3\u22c5s  + 2\u22c5s"
       ]
      }
     ],
     "prompt_number": 3
    },
    {
     "cell_type": "heading",
     "level": 4,
     "metadata": {},
     "source": [
      "1 .- Resolvemos la ganancia del sistema a partir de las especificaciones de error de velocidad"
     ]
    },
    {
     "cell_type": "markdown",
     "metadata": {},
     "source": [
      "$k_v = 10$\n",
      "\n",
      "$k_v = \\lim_{s \\rightarrow 0} G_c(s) \\cdot G(s) $"
     ]
    },
    {
     "cell_type": "code",
     "collapsed": false,
     "input": [
      "(s*G).subs(s,0)\n",
      "# O lo que es lo mismo...\n",
      "Eq(limit(s*G,s,0),10)"
     ],
     "language": "python",
     "metadata": {},
     "outputs": [
      {
       "latex": [
        "$$\\frac{K}{2} = 10$$"
       ],
       "metadata": {},
       "output_type": "pyout",
       "png": "[encoded data removed]",
       "prompt_number": 4,
       "text": [
        "K     \n",
        "\u2500 = 10\n",
        "2     "
       ]
      }
     ],
     "prompt_number": 4
    },
    {
     "cell_type": "code",
     "collapsed": false,
     "input": [
      "K=20"
     ],
     "language": "python",
     "metadata": {},
     "outputs": [],
     "prompt_number": 5
    },
    {
     "cell_type": "heading",
     "level": 4,
     "metadata": {},
     "source": [
      "2.- Se dibuja el diagrama de Bode del sistema NO compensado con ganancia 20."
     ]
    },
    {
     "cell_type": "code",
     "collapsed": false,
     "input": [
      "sys_G = signal.lti([K],[1,3,2,0])\n",
      "#sys_G\n",
      "w, mag, phase = signal.bode(sys_G) # Diagrama de bode: frecuencias, magnitud y fase\n",
      "fig, (ax1, ax2) = plt.subplots(2, 1, figsize=(6, 6))\n",
      "ax1.semilogx(w,mag) # Eje x logar\u00edtmico\n",
      "ax2.semilogx(w, phase) # Eje x logar\u00edtmico"
     ],
     "language": "python",
     "metadata": {},
     "outputs": [
      {
       "metadata": {},
       "output_type": "pyout",
       "prompt_number": 28,
       "text": [
        "[<matplotlib.lines.Line2D at 0x7f74b575ac50>]"
       ]
      },
      {
       "metadata": {},
       "output_type": "display_data",
       "png": "[encoded data removed]",
       "text": [
        "<matplotlib.figure.Figure at 0x7f74b58f9cc0>"
       ]
      }
     ],
     "prompt_number": 28
    },
    {
     "cell_type": "code",
     "collapsed": false,
     "input": [
      "M_G = interpolate.interp1d(mag,w)\n",
      "cruce_ganancia =M_G(0)\n",
      "cruce_ganancia"
     ],
     "language": "python",
     "metadata": {},
     "outputs": [
      {
       "metadata": {},
       "output_type": "pyout",
       "prompt_number": 33,
       "text": [
        "array(2.4261204919070822)"
       ]
      }
     ],
     "prompt_number": 33
    },
    {
     "cell_type": "code",
     "collapsed": false,
     "input": [
      "M_f = interpolate.interp1d(phase,w)\n",
      "cruce_fase = M_f(-180)\n",
      "cruce_fase "
     ],
     "language": "python",
     "metadata": {},
     "outputs": [
      {
       "metadata": {},
       "output_type": "pyout",
       "prompt_number": 34,
       "text": [
        "array(1.4143192918261236)"
       ]
      }
     ],
     "prompt_number": 34
    },
    {
     "cell_type": "code",
     "collapsed": false,
     "input": [
      "M_f(-130)"
     ],
     "language": "python",
     "metadata": {},
     "outputs": [
      {
       "metadata": {},
       "output_type": "pyout",
       "prompt_number": 35,
       "text": [
        "array(0.4918078670327874)"
       ]
      }
     ],
     "prompt_number": 35
    },
    {
     "cell_type": "code",
     "collapsed": false,
     "input": [],
     "language": "python",
     "metadata": {},
     "outputs": [],
     "prompt_number": 25
    },
    {
     "cell_type": "code",
     "collapsed": false,
     "input": [],
     "language": "python",
     "metadata": {},
     "outputs": [],
     "prompt_number": 25
    },
    {
     "cell_type": "code",
     "collapsed": false,
     "input": [],
     "language": "python",
     "metadata": {},
     "outputs": [],
     "prompt_number": 25
    },
    {
     "cell_type": "markdown",
     "metadata": {},
     "source": [
      "[index](index.ipynb)"
     ]
    }
   ],
   "metadata": {}
  }
 ]
}