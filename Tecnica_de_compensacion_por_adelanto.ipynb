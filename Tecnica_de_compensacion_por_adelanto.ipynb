{
 "metadata": {
  "name": "",
  "signature": "sha256:c2d4e59c175ec72c773eb9f4bb1c1133ab73586699a5442e095a4abd17b2c3fc"
 },
 "nbformat": 3,
 "nbformat_minor": 0,
 "worksheets": [
  {
   "cells": [
    {
     "cell_type": "heading",
     "level": 3,
     "metadata": {},
     "source": [
      "T\u00e9cnicas de compensaci\u00f3n por adelanto"
     ]
    },
    {
     "cell_type": "markdown",
     "metadata": {},
     "source": [
      "**INFORMACI\u00d3N de CONTRIBUCI\u00d3N EN CADA REGI\u00d3N BODE**\n",
      "[img]\n",
      "* Propositos de dise\u00f1o $\\rightarrow$ trabajo con Bode.\n",
      "    * Se ajusta la ganancia L.A. para requisitos de estado estacionario.\n",
      "    * Se representan curvas de magnitud y fase en L.A. sin compensar.\n",
      "    * Si no se satisfacen condiciones de margen de fase o ganancia, se determina un compensador adecuado.\n",
      "    * Se definen otros objetivos.\n",
      "* La compensaci\u00f3n es un compromiso entre precisi\u00f3n y estabilidad.\n",
      "\n",
      "---------------------------------------------------------------------"
     ]
    },
    {
     "cell_type": "markdown",
     "metadata": {},
     "source": [
      "R.D. (\u00bf?)\n",
      "![desfase](img/grafica_rara.svg)\n",
      "\n",
      "$$G_c(j\\omega) = k_c \\propto \\frac{j \\omega \\tau +1}{j\\omega \\propto \\tau + 1}$$\n",
      "\n",
      "-----------------------------------------------------"
     ]
    },
    {
     "cell_type": "heading",
     "level": 2,
     "metadata": {},
     "source": [
      "T\u00c9CNICAS DE COMPENSACI\u00d3N EN ADELANTO"
     ]
    },
    {
     "cell_type": "markdown",
     "metadata": {},
     "source": [
      "** 1.- Suponemos el compensador en adelanto**\n",
      "\n",
      "$G_c(s) = k_c \\propto \\frac{\\tau s +1}{\\propto \\tau s +1}$ \n",
      "\n",
      "Se define: $K=k_c\\cdot \\propto$\n",
      "\n",
      "------------------------------------------\n",
      "El compensador y la planta en Lazo Abierto:\n",
      "\n",
      "$G_c(s)G(s) = \\frac{\\tau s +1}{\\propto \\tau s +1} \\cdot K \\cdot G(s)$\n",
      "\n",
      "-----------------------------------------------------------\n",
      "**2.- Dibujar diagrama de Bode $KG(s)$ - con ganancia ajustada sin compensar. Calcular el margen de fase.**\n",
      "\n",
      "--------------------------------------------------------------\n",
      "\n",
      "**3.- Determinar el \u00e1ngulo de fase que se necesita agregar al sistema**\n",
      "\n",
      "A \u00e9sto hay que sumarle entre 5 y 12 grados.\n",
      "\n",
      "    El comportamiento de adelanto desplaza la frecuencia de cruce de ganancia hacia la derecha, disminuyendo el margen de fase.\n",
      "    \n",
      "------------------------------------------------------------------\n",
      "\n",
      "** 4.- Con el \u00e1ngulo deseado, determinar el factor de atenuaci\u00f3n**\n",
      "\n",
      "$\\qquad sen \\phi_m  = \\frac{1-\\propto}{1+\\propto}$\n",
      "\n",
      "Determinar la frecuencia donde la magnitud del sistema no compensado sea:\n",
      "\n",
      "$\\qquad -20log(\\frac{1}{\\sqrt{\\propto}})$      $\\qquad$  \n",
      "\n",
      "\u00c9sta frecuencia corresponde a:\n",
      "\n",
      "$\\qquad \\omega_n = \\frac{1}{\\sqrt{\\propto}\\tau}$\n",
      "\n",
      "--------------------------------------------------------\n",
      "\n",
      "**5.- Una vez determinada la frecuencia central, determinar el polo y el zero**\n",
      "\n",
      "$\\qquad zero=\\omega=\\frac{1}{\\tau} \\qquad polo = \\frac{1}{\\propto \\tau}$\n",
      "\n",
      "--------------------------------------------------------------\n",
      "\n",
      "** 6.- Usando valores de K y de $\\propto$ calculadas...**\n",
      "\n",
      "$\\qquad k_c = \\frac{K}{\\propto}$\n",
      "\n",
      "-------------------------------------------------------------\n",
      "\n",
      "** 7.- Verificar el margen de ganancia para asegurar que es satisfactorio**\n"
     ]
    },
    {
     "cell_type": "heading",
     "level": 2,
     "metadata": {},
     "source": [
      "Ejemplo de T\u00e9cnicas de compensaci\u00f3n en adelanto"
     ]
    },
    {
     "cell_type": "markdown",
     "metadata": {},
     "source": [
      "Dise\u00f1ar un compensador en adelanto con un error ante una entrade rampa menor de 0.05.\n",
      "\n",
      "$k_v = (20seg)^{-1}$\n",
      "\n",
      "Margen de fase $>45\u00ba$\n",
      "\n",
      "---------------------------------------------------------"
     ]
    },
    {
     "cell_type": "markdown",
     "metadata": {},
     "source": [
      "$$G(s)=\\frac{7.5}{s(s+3)}$$"
     ]
    },
    {
     "cell_type": "markdown",
     "metadata": {},
     "source": [
      "** Soluci\u00f3n:**\n",
      "\n",
      "$G_c(s) = k_c \\propto \\frac{j\\omega \\tau +1}{j\\omega \\tau +1}$\n",
      "    \n",
      "$K=k_c \\propto$\n",
      "    \n",
      "-----------------------------------------------------\n",
      "\n"
     ]
    },
    {
     "cell_type": "code",
     "collapsed": false,
     "input": [
      "from scipy import signal\n",
      "import sympy as sp\n",
      "import numpy as np\n",
      "sp.init_printing(use_latex=True) # para que las salidas sean bonitas\n",
      "import matplotlib.pyplot as plt\n",
      "%matplotlib inline\n",
      "s=sp.Symbol('s')\n",
      "kc =sp.Symbol('kc')\n",
      "\u03b1=sp.Symbol('\u03b1') # Uso alpha pero me quiero referir al simbolo de proporcional :o\n",
      "\u03c4=sp.Symbol('\u03c4')\n",
      "a=sp.Symbol('a')\n",
      "b=sp.Symbol('b')\n",
      "\n",
      "def series(sys1, sys2):\n",
      "    \"\"\"Series connection of two systems.\n",
      "    \"\"\"\n",
      "    if not isinstance(sys1, signal.lti):\n",
      "        sys1 = signal.lti(*sys1)\n",
      "    if not isinstance(sys2, signal.lti):\n",
      "        sys2 = signal.lti(*sys2)\n",
      "    num = np.polymul(sys1.num, sys2.num)\n",
      "    den = np.polymul(sys1.den, sys2.den)\n",
      "    sys = signal.lti(num, den)\n",
      "    return sys"
     ],
     "language": "python",
     "metadata": {},
     "outputs": [],
     "prompt_number": 158
    },
    {
     "cell_type": "code",
     "collapsed": false,
     "input": [
      "kv=20\n",
      "K=kc*\u03b1\n",
      "G = 7.5/(s*(s+3))\n",
      "Gc=K*(a*s*\u03c4+1)/(b*s*\u03c4+1)\n"
     ],
     "language": "python",
     "metadata": {},
     "outputs": [],
     "prompt_number": 159
    },
    {
     "cell_type": "markdown",
     "metadata": {},
     "source": [
      "**2) Se encuentra la ganancia K que junto con el sistema cumplen con la cte de error est\u00e1tico de velocidad.**\n",
      "\n",
      "$K_v = \\lim_{s \\rightarrow 0} sG_c(s)G(s) = \\lim_{s \\rightarrow 0} s\\cdot \\frac{\\tau s +1}{\\propto \\tau s +1}KG(s)= \\lim_{s \\rightarrow 0}\\frac{s7.5K}{s(s+3)} = 2.5K = 20 $\n",
      "\n",
      "$K=8$"
     ]
    },
    {
     "cell_type": "code",
     "collapsed": false,
     "input": [
      "(s*Gc*G).subs(s,0)"
     ],
     "language": "python",
     "metadata": {},
     "outputs": [
      {
       "latex": [
        "$$2.5 kc \u03b1$$"
       ],
       "metadata": {},
       "output_type": "pyout",
       "png": "[encoded data removed]",
       "prompt_number": 160,
       "text": [
        "2.5\u22c5kc\u22c5\u03b1"
       ]
      }
     ],
     "prompt_number": 160
    },
    {
     "cell_type": "code",
     "collapsed": false,
     "input": [
      "sp.solve(sp.Eq(2.5*K,kv),K)\n",
      "K=8"
     ],
     "language": "python",
     "metadata": {},
     "outputs": [],
     "prompt_number": 161
    },
    {
     "cell_type": "markdown",
     "metadata": {},
     "source": [
      "**3.- Se realiza el Bode del sistema a compensar con ganancia K**\n",
      "\n",
      "$\\qquad KG(s)=\\frac{60}{s(s+3)}$\n",
      "\n",
      "$\\qquad KG(j\\omega)  =\\frac{20}{j\\omega(j\\omega \\frac{1}{3}+1)}$"
     ]
    },
    {
     "cell_type": "code",
     "collapsed": false,
     "input": [
      "FTLA = signal.lti([20],[1/3,1,0])"
     ],
     "language": "python",
     "metadata": {},
     "outputs": [],
     "prompt_number": 162
    },
    {
     "cell_type": "code",
     "collapsed": false,
     "input": [
      "w, mag, phase = signal.bode(FTLA) # Diagrama de bode: frecuencias, magnitud y fase\n",
      "fig, (ax1, ax2) = plt.subplots(2, 1, figsize=(6, 6))\n",
      "ax1.semilogx(w, mag) # Eje x logar\u00edtmico\n",
      "ax2.semilogx(w, phase) # Eje x logar\u00edtmico"
     ],
     "language": "python",
     "metadata": {},
     "outputs": [
      {
       "metadata": {},
       "output_type": "pyout",
       "prompt_number": 163,
       "text": [
        "[<matplotlib.lines.Line2D at 0x7f1533abe518>]"
       ]
      },
      {
       "metadata": {},
       "output_type": "display_data",
       "png": "[encoded data removed]",
       "text": [
        "<matplotlib.figure.Figure at 0x7f1533b9bda0>"
       ]
      }
     ],
     "prompt_number": 163
    },
    {
     "cell_type": "code",
     "collapsed": false,
     "input": [
      "# np.interp(0,mag,w) -> Por alg\u00fan extra\u00f1o motivo, da un valor erroneo.\u00bf?\n",
      "f = interpolate.interp1d(mag,w) #interpolacion con scipy\n",
      "J=f(0) # Buscamos w para mag=0\n",
      "M=np.interp(J,w,phase) #interpolacion con numpy\n",
      "Mf = 180+M # Margen de fase"
     ],
     "language": "python",
     "metadata": {},
     "outputs": [],
     "prompt_number": 164
    },
    {
     "cell_type": "markdown",
     "metadata": {},
     "source": [
      "** Calculamos $\\phi$**\n",
      "\n",
      "$\\phi = Margen_{deseado} - M_f + M_{seg}$"
     ]
    },
    {
     "cell_type": "code",
     "collapsed": false,
     "input": [
      "#Mf = 21.910800460768172\n",
      "Ms=5 #Margen de seguridad\n",
      "\u03d5 = 45-Mf+Ms\n",
      "np.around(\u03d5) # Redondeamos"
     ],
     "language": "python",
     "metadata": {},
     "outputs": [
      {
       "latex": [
        "$$28.0$$"
       ],
       "metadata": {},
       "output_type": "pyout",
       "png": "[encoded data removed]",
       "prompt_number": 165,
       "text": [
        "28.0"
       ]
      }
     ],
     "prompt_number": 165
    },
    {
     "cell_type": "markdown",
     "metadata": {},
     "source": [
      "**5.- De $\\phi$ se obtiene $\\propto$**\n",
      "\n",
      "$sen\\phi = \\frac{1-\\propto}{1+\\propto} \\leftarrow \\rightarrow \\propto = \\frac{1-sen\\phi}{1+sen\\phi}$"
     ]
    },
    {
     "cell_type": "code",
     "collapsed": false,
     "input": [
      "\u03b1=(1-np.sin(\u03d5*np.pi/180))/(1+np.sin(\u03d5*np.pi/180))  # Cuidado de meter el parametro en radianes y no en grados\n",
      "\u03b1"
     ],
     "language": "python",
     "metadata": {},
     "outputs": [
      {
       "latex": [
        "$$0.359762041157$$"
       ],
       "metadata": {},
       "output_type": "pyout",
       "png": "[encoded data removed]",
       "prompt_number": 166,
       "text": [
        "0.359762041157"
       ]
      }
     ],
     "prompt_number": 166
    },
    {
     "cell_type": "markdown",
     "metadata": {},
     "source": [
      "**6.- Se calcula el cambio de magnitud que se obtiene al agregar el compensador**  \n",
      "\n",
      "Se utiliza: $20 log\\left(\\frac{1}{\\sqrt{\\propto}}\\right)$"
     ]
    },
    {
     "cell_type": "code",
     "collapsed": false,
     "input": [
      "\u0394v = 20*np.log10(1/np.sqrt(\u03b1)) # Logaritmo en base 10\n",
      "# \u0394v = 4.43984661407"
     ],
     "language": "python",
     "metadata": {},
     "outputs": [],
     "prompt_number": 167
    },
    {
     "cell_type": "markdown",
     "metadata": {},
     "source": [
      "Se observa en el diagrama de Bode en que frecuencia se tiene esta magnitud y de define una nueva frecuencia de cruce de ganancia. Despu\u00e9s se hace que a esta frecuencia ocurra el m\u00e1ximoaumento de fase $\\phi_m$, en otras palabras, $\\omega_c$ es la frecuencia media entre el zero y el polo."
     ]
    },
    {
     "cell_type": "code",
     "collapsed": false,
     "input": [
      "\u03c9c = f(-\u0394v) # Observar que buscamos la frecuencia a la ganancia negativa\n",
      "# \u03c9c = 9.78398538721519 rad/seg"
     ],
     "language": "python",
     "metadata": {},
     "outputs": [],
     "prompt_number": 168
    },
    {
     "cell_type": "markdown",
     "metadata": {},
     "source": [
      "**7.- Se obtiene el polo y el cero del compensador **\n"
     ]
    },
    {
     "cell_type": "code",
     "collapsed": false,
     "input": [
      "# zero\n",
      "sp.solve(sp.Eq(1/\u03c4,sp.sqrt(\u03b1)*\u03c9c),1/\u03c4)\n",
      "# zero = 5.86845075674195\n",
      "\n",
      "# polo\n",
      "sp.solve(sp.Eq(1/\u03b1/\u03c4,\u03c9c/sp.sqrt(\u03b1)),1/\u03c4/\u03b1)\n",
      "# polo = 16.312034304329\n"
     ],
     "language": "python",
     "metadata": {},
     "outputs": [
      {
       "latex": [
        "$$\\begin{bmatrix}16.312034304329\\end{bmatrix}$$"
       ],
       "metadata": {},
       "output_type": "pyout",
       "png": "[encoded data removed]",
       "prompt_number": 169,
       "text": [
        "[16.312034304329]"
       ]
      }
     ],
     "prompt_number": 169
    },
    {
     "cell_type": "markdown",
     "metadata": {},
     "source": [
      "**8.- Con $\\propto$ = K se obtiene la ganancia del comparador**\n",
      "\n",
      "$$k_c = \\frac{K}{\\propto}$$"
     ]
    },
    {
     "cell_type": "code",
     "collapsed": false,
     "input": [
      "kc=K/\u03b1\n",
      "# kc = 22.2369207554"
     ],
     "language": "python",
     "metadata": {},
     "outputs": [],
     "prompt_number": 170
    },
    {
     "cell_type": "markdown",
     "metadata": {},
     "source": [
      "**Red de adelanto calculada**\n",
      "\n",
      "$$ G_c(s) = 22.24 \\frac{s+5.87}{s+16.31}$$"
     ]
    },
    {
     "cell_type": "code",
     "collapsed": false,
     "input": [
      "w, mag, phase = signal.bode(FTLA) # Diagrama de bode: frecuencias, magnitud y fase\n",
      "fig, (ax1, ax2) = plt.subplots(2, 1, figsize=(6, 6))\n",
      "ax1.semilogx(w, mag) # Eje x logar\u00edtmico\n",
      "ax2.semilogx(w, phase) # Eje x logar\u00edtmico\n",
      "NFTLA =series(FTLA,([22.24,22.24*5],[1,16.31])) \n",
      "Nw, Nmag, Nphase = signal.bode(NFTLA)\n",
      "ax1.semilogx(Nw, Nmag)\n",
      "ax2.semilogx(Nw, Nphase)"
     ],
     "language": "python",
     "metadata": {},
     "outputs": [
      {
       "metadata": {},
       "output_type": "pyout",
       "prompt_number": 172,
       "text": [
        "[<matplotlib.lines.Line2D at 0x7f1533b38240>]"
       ]
      },
      {
       "metadata": {},
       "output_type": "display_data",
       "png": "[encoded data removed]",
       "text": [
        "<matplotlib.figure.Figure at 0x7f1533a41eb8>"
       ]
      }
     ],
     "prompt_number": 172
    },
    {
     "cell_type": "code",
     "collapsed": false,
     "input": [],
     "language": "python",
     "metadata": {},
     "outputs": [],
     "prompt_number": 171
    },
    {
     "cell_type": "code",
     "collapsed": false,
     "input": [],
     "language": "python",
     "metadata": {},
     "outputs": [],
     "prompt_number": 171
    },
    {
     "cell_type": "markdown",
     "metadata": {},
     "source": [
      "[index](index.ipynb)"
     ]
    }
   ],
   "metadata": {}
  }
 ]
}