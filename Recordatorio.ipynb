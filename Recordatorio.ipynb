{
 "metadata": {
  "name": "",
  "signature": "sha256:374db19a3ee233c29416e3048483cd73202b09a0f61a60106815654ab5a00c5a"
 },
 "nbformat": 3,
 "nbformat_minor": 0,
 "worksheets": [
  {
   "cells": [
    {
     "cell_type": "markdown",
     "metadata": {},
     "source": [
      "<img src=\"img/practica_01.svg\">"
     ]
    },
    {
     "cell_type": "heading",
     "level": 3,
     "metadata": {},
     "source": [
      "Especificaciones de la respuesta transitoria"
     ]
    },
    {
     "cell_type": "markdown",
     "metadata": {},
     "source": [
      "$t_r = \\frac{\\pi-\\theta}{\\omega_d}$\n",
      "\n",
      "$\\theta = arccos (\\delta)$\n",
      "\n",
      "\n",
      "$t_s$: *Tiempo de establecimiento*: Tiempo necesario para que la respuesta se estabilice dentro de un margen del 2 al 5% del valor final.\n",
      "\n",
      "$\\qquad t_s = \\frac{\\pi *}{\\delta \\omega_n} \\quad$ *Nota: El numerador puede oscilar entre aproximadamente 3 y 4, dependiendo del margen que estemos calculando.\n",
      "\n",
      "$M_p$: *M\u00e1ximo sobreimpulso*: Valor m\u00e1ximo de la respuesta (en tanto por uno) del valor final. \n",
      "\n",
      "$\\qquad M_p = e^{\\frac{\\delta \\pi}{\\sqrt{1-\\delta^2}}}$\n",
      "\n",
      "$\\qquad \\delta = \\sqrt{\\frac{(ln(M_p))^2}{\\pi^2 + (ln(M_p))^2}}$\n",
      "\n",
      "[...]"
     ]
    },
    {
     "cell_type": "heading",
     "level": 3,
     "metadata": {},
     "source": [
      "Construcci\u00f3n del lugar de las raices"
     ]
    },
    {
     "cell_type": "markdown",
     "metadata": {},
     "source": [
      "1. Se iguala la ecuaci\u00f3n caracter\u00edstica a cero:\n",
      "$$1+ k\\frac{(s+z_1)(s+z_2)\\dots(s+z_n)}{(s+p_1)(s+p_2)\\dots(s+p_n)}=0 $$\n",
      "\n",
      "2. El n\u00famero de ramas es igual a N\u00ba de polos de FTLA\n",
      "\n",
      "3. El lugar de las raices:\n",
      "    * Comienza en los polos \n",
      "    * Termina en los ceros\n",
      "    \n",
      "4. El eje real es un lugar de las raicer si a la derecha hay un n\u00ba impar de polos y ceros (Directo)\n",
      "\n",
      "5. El lugar de las raices es simetrico respecto al eje X\n",
      "\n",
      "6. Asintotas\n",
      "    * Directo ($k>0$): $\\theta_a = \\frac{180(2q+1)}{p-z}$\n",
      "    * Inverso ($k<0$): $\\theta_a = \\frac{180(2q)}{p-z}$\n",
      "\n",
      "7. Centroide\n",
      "\n",
      "    $\\qquad \\sigma_0 = \\frac{\\sum PolosF(s)-\\sum cerosF(s)}{p-z}$\n",
      "\n",
      "8. \u00c1ngulo de salida y llegada a p y z complejos conjugados\n",
      "    * Directo: $\\sum \\angle z - \\sum \\angle p = 180(2k+1)$\n",
      "    * Inverso: $\\sum \\angle z - \\sum \\angle p = 180(2k)$\n",
      "\n",
      "9. Llegada y salida del eje real\n",
      "    * M\u00e9todo 1:\n",
      "        * Despejar K, y derivar, igualar a cero, y ver las raices.\n",
      "    * M\u00e9todo 2:\n",
      "           \n",
      "        $\\sum_{i=1}^m \\frac{1}{a-p_i} = \\sum_{j=0}^n \\frac{1}{a-zj}$; Complejos: $\\frac{2(a+\\alpha)}{(a+\\alpha)^2 + \\beta^2}$\n",
      "        \n",
      "[...]"
     ]
    },
    {
     "cell_type": "heading",
     "level": 3,
     "metadata": {},
     "source": [
      "ERRORES"
     ]
    },
    {
     "cell_type": "markdown",
     "metadata": {},
     "source": [
      "Error\n",
      "\n",
      "$$E(s) = R(s) - H(S)G(s)K\\cdot E(s)$$\n",
      "\n",
      "$$E(s) = \\frac{R(s)}{1+KG(s)H(s)}$$\n",
      "\n",
      "\n",
      "Error de estado en funcion de la ganancia k.\n",
      "\n",
      "|                |    escalon      |       rampa    | aceleracion   |\n",
      "|:--------------:|:---------------:|:--------------:|:-------------:|\n",
      "| Sistema tipo 0 | $\\frac{1}{1+k}$ |     $\\infty$   |   $\\infty$    |\n",
      "| Sistema tipo 1 |        0        | $\\frac{1}{k}$  |   $\\infty$    |\n",
      "| Sistema tipo 2 |        0        |         0      | $\\frac{1}{k}$ |\n",
      "\n"
     ]
    },
    {
     "cell_type": "markdown",
     "metadata": {},
     "source": [
      "[Index](index.ipynb)\n",
      "\n"
     ]
    }
   ],
   "metadata": {}
  }
 ]
}