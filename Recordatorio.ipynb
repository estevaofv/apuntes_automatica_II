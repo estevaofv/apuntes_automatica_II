{
 "cells": [
  {
   "cell_type": "markdown",
   "metadata": {},
   "source": [
    "<img src=\"img/practica_01.svg\">"
   ]
  },
  {
   "cell_type": "markdown",
   "metadata": {},
   "source": [
    "### Especificaciones de la respuesta transitoria"
   ]
  },
  {
   "cell_type": "markdown",
   "metadata": {},
   "source": [
    "$t_r = \\frac{\\pi-\\theta}{\\omega_d}$\n",
    "\n",
    "$\\theta = arccos (\\delta)$\n",
    "\n",
    "\n",
    "$t_s$: *Tiempo de establecimiento*: Tiempo necesario para que la respuesta se estabilice dentro de un margen del 2 al 5% del valor final.\n",
    "\n",
    "$\\qquad t_s = \\frac{\\pi *}{\\delta \\omega_n} \\quad$ *Nota: El numerador puede oscilar entre aproximadamente 3 y 4, dependiendo del margen que estemos calculando.\n",
    "\n",
    "$M_p$: *Máximo sobreimpulso*: Valor máximo de la respuesta (en tanto por uno) del valor final. \n",
    "\n",
    "$\\qquad M_p = e^{- \\frac{\\delta \\pi}{\\sqrt{1-\\delta^2}}} \\longleftrightarrow \\delta = \\sqrt{\\frac{(ln(M_p))^2}{\\pi^2 + (ln(M_p))^2}} $\n",
    "\n",
    "\n",
    "[...]"
   ]
  },
  {
   "cell_type": "markdown",
   "metadata": {},
   "source": [
    "### Construcción del lugar de las raices"
   ]
  },
  {
   "cell_type": "markdown",
   "metadata": {},
   "source": [
    "1. Se iguala la ecuación característica a cero:\n",
    "$$1+ k\\frac{(s+z_1)(s+z_2)\\dots(s+z_n)}{(s+p_1)(s+p_2)\\dots(s+p_n)}=0 $$\n",
    "\n",
    "2. El número de ramas es igual a Nº de polos de FTLA\n",
    "\n",
    "3. El lugar de las raices:\n",
    "    * Comienza en los polos \n",
    "    * Termina en los ceros\n",
    "    \n",
    "4. El eje real es un lugar de las raicer si a la derecha hay un nº impar de polos y ceros (Directo)\n",
    "\n",
    "5. El lugar de las raices es simetrico respecto al eje X\n",
    "\n",
    "6. Asintotas\n",
    "    * Directo ($k>0$): $\\theta_a = \\frac{180(2q+1)}{p-z}$\n",
    "    * Inverso ($k<0$): $\\theta_a = \\frac{180(2q)}{p-z}$\n",
    "\n",
    "7. Centroide\n",
    "\n",
    "    $\\qquad \\sigma_0 = \\frac{\\sum PolosF(s)-\\sum cerosF(s)}{p-z}$\n",
    "\n",
    "8. Ángulo de salida y llegada a p y z complejos conjugados\n",
    "    * Directo: $\\sum \\angle z - \\sum \\angle p = 180(2k+1)$\n",
    "    * Inverso: $\\sum \\angle z - \\sum \\angle p = 180(2k)$\n",
    "\n",
    "9. Llegada y salida del eje real\n",
    "    * Método 1:\n",
    "        * Despejar K, y derivar, igualar a cero, y ver las raices.\n",
    "    * Método 2:\n",
    "           \n",
    "        $\\sum_{i=1}^m \\frac{1}{a-p_i} = \\sum_{j=0}^n \\frac{1}{a-zj}$; Complejos: $\\frac{2(a+\\alpha)}{(a+\\alpha)^2 + \\beta^2}$\n",
    "        \n",
    "[...]"
   ]
  },
  {
   "cell_type": "markdown",
   "metadata": {},
   "source": [
    "### Errores en estado estacionario"
   ]
  },
  {
   "cell_type": "markdown",
   "metadata": {},
   "source": [
    "El error en estado estacionario de un sistema se corresponde con el valor de la señal de salida del comparador, cuando ésta se estabiliza a un valor constante.\n",
    "$$E(s)=R(s)-C(s)H(s) \\qquad C(s) = E(s)\\cdot K \\cdot G(s)$$\n",
    "$$E(s) = R(s) - H(S)G(s)K\\cdot E(s) \\qquad E(s) [1+KG(s)H(s)] = R(s)$$\n",
    "\n",
    "$$E(s) = \\frac{R(s)}{1+KG(s)H(s)}$$\n",
    "\n",
    "Para conocer el valor del error en regimen permanente se deberá aplicar el teorema del valor final:\n",
    "\n",
    "$$e_{\\infty} = \\lim_{s \\rightarrow 0} s \\frac{R(s)}{1+K\\cdot G(s) \\cdot H(s)}$$\n",
    "\n",
    "Recordamos que las transformadas de Laplace para las entradas 'tipo' del sistema son:\n",
    "\n",
    "* Entrada escalón:\n",
    "\n",
    "$\\qquad R(s) = \\frac{1}{s}$\n",
    "\n",
    "* Entrada rampa:\n",
    "\n",
    "$\\qquad R(s) = \\frac{1}{s^2}$\n",
    "\n",
    "* Entrada aceleración:\n",
    "\n",
    "$\\qquad R(s) = \\frac{1}{s^3}$\n",
    "\n",
    "\n",
    "\n",
    "\n",
    "En la siguiente tabla puede verse cómo varía el error ante las diferentes entradas, en función del tipo de sistea.\n",
    "\n",
    "|                |    escalon      |       rampa    | aceleracion   |\n",
    "|:--------------:|:---------------:|:--------------:|:-------------:|\n",
    "| Sistema tipo 0 | $\\frac{1}{1+k}$ |     $\\infty$   |   $\\infty$    |\n",
    "| Sistema tipo 1 |        0        | $\\frac{1}{k}$  |   $\\infty$    |\n",
    "| Sistema tipo 2 |        0        |         0      | $\\frac{1}{k}$ |\n",
    "\n"
   ]
  },
  {
   "cell_type": "markdown",
   "metadata": {},
   "source": [
    "[Index](index.ipynb)\n",
    "\n"
   ]
  }
 ],
 "metadata": {
  "kernelspec": {
   "display_name": "Python 3",
   "language": "python",
   "name": "python3"
  },
  "language_info": {
   "codemirror_mode": {
    "name": "ipython",
    "version": 3
   },
   "file_extension": ".py",
   "mimetype": "text/x-python",
   "name": "python",
   "nbconvert_exporter": "python",
   "pygments_lexer": "ipython3",
   "version": "3.4.3"
  }
 },
 "nbformat": 4,
 "nbformat_minor": 0
}
