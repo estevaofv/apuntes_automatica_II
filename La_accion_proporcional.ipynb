{
 "cells": [
  {
   "cell_type": "code",
   "execution_count": 1,
   "metadata": {
    "collapsed": false,
    "slideshow": {
     "slide_type": "-"
    }
   },
   "outputs": [],
   "source": []
  },
  {
   "cell_type": "markdown",
   "metadata": {},
   "source": [
    "### La acción proporcional"
   ]
  },
  {
   "cell_type": "markdown",
   "metadata": {},
   "source": [
    "* La acción es proporcional al error\n",
    "* De manera instantánea\n",
    "* Valores elevados de $k_p$, originan menores errores, pero puede suponer respuestas sobreimpulso, o inestables"
   ]
  },
  {
   "cell_type": "markdown",
   "metadata": {},
   "source": [
    "**Ejemplo:**\n",
    "    \n",
    "---------------------------\n",
    "\n",
    "<img width = 25% align=right src=\"img/sistema_03.svg\">\n",
    "\n",
    "$D_s = k_p$\n",
    "\n",
    "$G_s = \\frac{6(s+8)}{(s+1)(s+3)(s+6)}$\n",
    "\n",
    "$H(s) = 1$\n",
    "\n",
    "-------------------------------\n",
    "**Especificaciones**\n",
    "\n",
    "$M_p \\leq 30$\n",
    "\n",
    "$e_{rp} \\leq 15\\%$"
   ]
  },
  {
   "cell_type": "markdown",
   "metadata": {},
   "source": [
    "$$M_p = e^{-\\frac{\\delta M_p}{\\sqrt{1-\\delta^2}}} $$\n",
    "\n",
    "$$\\delta = \\sqrt{\\frac{log(M_p)^2}{M_p^2+log(M_p)^2}}$$\n",
    "\n",
    "------------------------------"
   ]
  },
  {
   "cell_type": "markdown",
   "metadata": {},
   "source": [
    "$\\delta \\geq 0.3579$\n",
    "\n",
    "$\\phi = arccos \\delta = 69.03$\n",
    "\n",
    "--------------------------------"
   ]
  },
  {
   "cell_type": "markdown",
   "metadata": {},
   "source": [
    "**2.- condicion $\\rightarrow e_{rp} \\leq 15\\%$**"
   ]
  },
  {
   "cell_type": "markdown",
   "metadata": {},
   "source": [
    "<img width = 30% align=right src=\"img/sistema_01.svg\">\n",
    "\n",
    "$e_p = lim_{s \\rightarrow 0} \\frac{1 + DGH(s)-DG(s)}{1 + DGH(s)}$\n",
    "\n",
    "$ep = \\frac{1 + k_p 8/3 - k_p 8/3}{1 + k_p8/3} = \\frac{1}{1+k_p 8/3}$\n",
    "\n",
    "$\\frac{1}{1+k_p 8/3} \\leq 0.15$\n",
    "\n",
    "$k_p \\geq 2.125$\n",
    "\n",
    "$$k=\\frac{\\Pi_{i=1}^n dp_i}{\\Pi_{j=1}^m dz_j}$$\n",
    "\n",
    "$k=\\frac{dp_1 \\cdot dp_2 \\cdot dp_2}{dz_1} = 14.27$\n",
    "\n",
    "$k_p\\cdot 6 = 14.276$\n",
    "\n",
    "$k_p = 2.354$\n"
   ]
  },
  {
   "cell_type": "code",
   "execution_count": null,
   "metadata": {
    "collapsed": false
   },
   "outputs": [],
   "source": []
  }
 ],
 "metadata": {
  "kernelspec": {
   "display_name": "Python 3",
   "language": "python",
   "name": "python3"
  },
  "language_info": {
   "codemirror_mode": {
    "name": "ipython",
    "version": 3
   },
   "file_extension": ".py",
   "mimetype": "text/x-python",
   "name": "python",
   "nbconvert_exporter": "python",
   "pygments_lexer": "ipython3",
   "version": "3.4.3"
  }
 },
 "nbformat": 4,
 "nbformat_minor": 0
}
