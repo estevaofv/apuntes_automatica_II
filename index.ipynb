{
 "metadata": {
  "name": "",
  "signature": "sha256:4affcbb50f2df188b523d1f1ce40b06d685847e49b21f03ee0c760c08d666d22"
 },
 "nbformat": 3,
 "nbformat_minor": 0,
 "worksheets": [
  {
   "cells": [
    {
     "cell_type": "heading",
     "level": 3,
     "metadata": {},
     "source": [
      "ERRORES (recordatorio)"
     ]
    },
    {
     "cell_type": "markdown",
     "metadata": {},
     "source": [
      "<img src=\"img/practica_01.svg\">\n",
      "Error\n",
      "$$E(s) = R(s) - H(S)G(s)K\\cdot E(s)$$\n",
      "\n",
      "$$E(s) = \\frac{R(s)}{1+KG(s)H(s)}$$\n",
      "\n",
      "\n",
      "Error de estado en funcion de la ganancia k.\n",
      "\n",
      "|                |    escalon      |       rampa    | aceleracion   |\n",
      "|:--------------:|:---------------:|:--------------:|:-------------:|\n",
      "| Sistema tipo 0 | $\\frac{1}{1+k}$ |     $\\infty$   |   $\\infty$    |\n",
      "| Sistema tipo 1 |        0        | $\\frac{1}{k}$  |   $\\infty$    |\n",
      "| Sistema tipo 2 |        0        |         0      | $\\frac{1}{k}$ |\n",
      "\n",
      "\n"
     ]
    },
    {
     "cell_type": "heading",
     "level": 2,
     "metadata": {},
     "source": [
      "****Dise\u00f1o de reguladores por el lugar de las raices****"
     ]
    },
    {
     "cell_type": "markdown",
     "metadata": {},
     "source": [
      "** Compensadores anal\u00f3gicos **\n",
      "\n",
      "[La acci\u00f3n proporcional](La_accion_proporcional.ipynb)\n",
      "\n",
      "<img align=right src=\"img/sistema_de_coordenadas.svg\">\n",
      "\n",
      "[Regulador diferencial](regulador_diferencial.ipynb)\n",
      "\n",
      "[Regulador integrador](regulador_integrador.ipynb)\n",
      "\n",
      "[Reguador PID](regulador_PID.ipynb)\n",
      "\n",
      "[T\u00e9cnica de compensaci\u00f3n por adelanto](Tecnica_de_compensacion_por_adelanto.ipynb)\n",
      "\n",
      "[T\u00e9cnica de compensaci\u00f3n por retraso](Tecnica_de_compensacion_por_retraso.ipynb)\n",
      "\n",
      "[T\u00e9cnica de compensaci\u00f3n por retraso-adelanto](Tecnica_de_compensacion_retraso-adelanto.ipynb)\n",
      "\n",
      "[Resumen y comparaci\u00f3n de los reguladores de adelanto, de atraso y de adelanto-ateaso](Comparacion_reguladores_adelanto_atraso_y_adelanto-atraso.ipynb)\n",
      "\n",
      "**Compensadores digiales**\n",
      "\n",
      "\n",
      "[Sistemas discretos](Intro_sistemas_discretos.ipynb)\n",
      "\n",
      "\n",
      "----------------------------------------------------------------------------------\n",
      "\n",
      "[Practica 01](practica_01.ipynb)\n",
      "\n",
      "[Practica 02](practica_02.ipynb)\n",
      "\n",
      "[Practica 03](practica_03.ipynb)"
     ]
    },
    {
     "cell_type": "markdown",
     "metadata": {},
     "source": [
      "<A href=\"testses.ipynb\">testses</A>"
     ]
    },
    {
     "cell_type": "code",
     "collapsed": false,
     "input": [],
     "language": "python",
     "metadata": {},
     "outputs": []
    }
   ],
   "metadata": {}
  }
 ]
}