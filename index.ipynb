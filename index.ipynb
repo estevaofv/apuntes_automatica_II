{
 "cells": [
  {
   "cell_type": "markdown",
   "metadata": {},
   "source": [
    "# Apuntes de Automática II"
   ]
  },
  {
   "cell_type": "markdown",
   "metadata": {},
   "source": [
    "<img width=60% src=\"img/UN-CONSTRUCTION.svg\">"
   ]
  },
  {
   "cell_type": "markdown",
   "metadata": {},
   "source": [
    "<img src=\"img/practica_01.svg\">\n",
    "\n",
    "[Recordatorio de conceptos anteriores](Recordatorio.ipynb)\n"
   ]
  },
  {
   "cell_type": "markdown",
   "metadata": {},
   "source": [
    "### ** Compensadores analógicos **"
   ]
  },
  {
   "cell_type": "markdown",
   "metadata": {},
   "source": [
    "***Diseño de reguladores por el lugar de las raices***\n",
    "\n",
    "[La acción proporcional](La_accion_proporcional.ipynb)\n",
    "\n",
    "<img align=right src=\"img/sistema_de_coordenadas.svg\">\n",
    "\n",
    "[Regulador diferencial](regulador_diferencial.ipynb)\n",
    "\n",
    "[Regulador integrador](regulador_integrador.ipynb)\n",
    "\n",
    "[Reguador PID](regulador_PID.ipynb)\n",
    "\n",
    "***Diseño de reguladores por Bode***\n",
    "\n",
    "[Técnica de compensación por adelanto](Tecnica_de_compensacion_por_adelanto.ipynb)\n",
    "\n",
    "[Técnica de compensación por retardo de fase](Tecnica_de_compensacion_por_retraso.ipynb)\n",
    "\n",
    "[Técnica de compensación por retraso-adelanto](Tecnica_de_compensacion_retraso-adelanto.ipynb)\n",
    "\n",
    "[Resumen y comparación de los reguladores de adelanto, de atraso y de adelanto-atraso](Comparacion_reguladores_adelanto_atraso_y_adelanto-atraso.ipynb)\n"
   ]
  },
  {
   "cell_type": "markdown",
   "metadata": {},
   "source": [
    "### ****Compensadores digiales****"
   ]
  },
  {
   "cell_type": "markdown",
   "metadata": {},
   "source": [
    "\n",
    "[Sistemas discretos](Intro_sistemas_discretos.ipynb)\n",
    "\n",
    "\n",
    "----------------------------------------------------------------------------------\n"
   ]
  },
  {
   "cell_type": "markdown",
   "metadata": {},
   "source": [
    "### Prácticas"
   ]
  },
  {
   "cell_type": "markdown",
   "metadata": {},
   "source": [
    "\n",
    "[Practica 01](practica_01.ipynb)\n",
    "\n",
    "[Practica 02](practica_02.ipynb)\n",
    "\n",
    "[Practica 03](practica_03.ipynb)"
   ]
  },
  {
   "cell_type": "code",
   "execution_count": null,
   "metadata": {
    "collapsed": false
   },
   "outputs": [],
   "source": []
  },
  {
   "cell_type": "markdown",
   "metadata": {},
   "source": [
    "<A href=\"testses.ipynb\">testses</A>"
   ]
  }
 ],
 "metadata": {
  "kernelspec": {
   "display_name": "Python 3",
   "language": "python",
   "name": "python3"
  },
  "language_info": {
   "codemirror_mode": {
    "name": "ipython",
    "version": 3
   },
   "file_extension": ".py",
   "mimetype": "text/x-python",
   "name": "python",
   "nbconvert_exporter": "python",
   "pygments_lexer": "ipython3",
   "version": "3.4.3"
  }
 },
 "nbformat": 4,
 "nbformat_minor": 0
}
